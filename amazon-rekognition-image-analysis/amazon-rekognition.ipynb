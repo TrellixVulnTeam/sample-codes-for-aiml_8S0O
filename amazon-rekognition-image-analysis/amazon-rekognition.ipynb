{
 "cells": [
  {
   "cell_type": "markdown",
   "id": "rapid-processing",
   "metadata": {},
   "source": [
    "# Amazon Rekognition の画像分析を AWS SDK for Python でやってみる\n",
    "\n",
    "AWS  SDK for Python を使って Amazon Rekognition の API をたたいて、画像を分析してみましょう。ノートブックを実行する前に、このノートブックと同じ場所にあらかじめ JPG か PNG ファイルをアップロードしておいてください。"
   ]
  },
  {
   "cell_type": "code",
   "execution_count": null,
   "id": "mental-slave",
   "metadata": {},
   "outputs": [],
   "source": [
    "import boto3\n",
    "import json\n",
    "from PIL import Image\n",
    "\n",
    "# アップロードした画像名に書き換える\n",
    "filename = 'cats.jpg'\n",
    "\n",
    "with open(filename, 'rb') as image_file:\n",
    "    image_bytes = image_file.read()\n",
    "\n",
    "# Rekognition を使う準備\n",
    "rekognition = boto3.client('rekognition', 'us-east-1')\n",
    "\n",
    "response = rekognition.detect_labels(Image={'Bytes': image_bytes})\n",
    "print(json.dumps(response, indent=2))"
   ]
  },
  {
   "cell_type": "markdown",
   "id": "decreased-madonna",
   "metadata": {},
   "source": [
    "API をたたいて取得した JSON をパースして、検出されたオブジェクトのバウンディングボックスの情報を取得し、画像に重畳表示します。"
   ]
  },
  {
   "cell_type": "code",
   "execution_count": null,
   "id": "tutorial-albert",
   "metadata": {},
   "outputs": [],
   "source": [
    "import cv2\n",
    "import random\n",
    "\n",
    "np_image = cv2.imread(filename)\n",
    "height, width = np_image.shape[:2]\n",
    "\n",
    "# 指定した Confidence value より大きい場合に枠を表示\n",
    "for label in response['Labels']:\n",
    "\n",
    "    for lb in label['Instances']:\n",
    "        if lb['Confidence'] > 70:\n",
    "            box = lb['BoundingBox']\n",
    "            x = round(width * box['Left'])\n",
    "            y = round(height * box['Top'])\n",
    "            w = round(width * box['Width'])\n",
    "            h = round(height * box['Height'])\n",
    "            color =[random.uniform(100,255), random.uniform(100,255), random.uniform(100,255)]\n",
    "            cv2.rectangle(np_image, (x, y), (x + w, y + h), color, 3)\n",
    "            cv2.putText(np_image, label['Name'], (x, y - 12), cv2.FONT_HERSHEY_SIMPLEX, 1.5, color, 3)\n",
    "\n",
    "outfile = './out.jpg'\n",
    "cv2.imwrite(outfile, np_image)\n",
    "\n",
    "\n",
    "from IPython.display import Image\n",
    "Image(outfile)"
   ]
  },
  {
   "cell_type": "code",
   "execution_count": null,
   "id": "strategic-robinson",
   "metadata": {},
   "outputs": [],
   "source": []
  }
 ],
 "metadata": {
  "kernelspec": {
   "display_name": "conda_mxnet_p36",
   "language": "python",
   "name": "conda_mxnet_p36"
  },
  "language_info": {
   "codemirror_mode": {
    "name": "ipython",
    "version": 3
   },
   "file_extension": ".py",
   "mimetype": "text/x-python",
   "name": "python",
   "nbconvert_exporter": "python",
   "pygments_lexer": "ipython3",
   "version": "3.6.13"
  }
 },
 "nbformat": 4,
 "nbformat_minor": 5
}
