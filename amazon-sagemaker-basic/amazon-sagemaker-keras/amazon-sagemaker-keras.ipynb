{
 "cells": [
  {
   "cell_type": "markdown",
   "id": "2ab6f925-78b3-4f10-bc52-de4a074dfde4",
   "metadata": {},
   "source": [
    "# Amazon SageMaker で Keras のモデルを学習する\n",
    "\n",
    "このサンプルノートブックでは、Amazon SageMaker の学習ジョブ機能を使って、Keras の固定長の時系列データの分類モデルを学習します。\n",
    "\n",
    "## 前提条件\n",
    "- このサンプルノートブックは Amazon SageMaker Studio の Python 3 (Tensorflow 2.6 Python 3.8 CPU) カーネルで動作を確認しています\n",
    "- このサンプルノートブックは、[Keras のサンプルコード](https://github.com/keras-team/keras-io/blob/master/examples/timeseries/timeseries_classification_from_scratch.py) をベースに作成したスクリプトを使用しています。\n"
   ]
  },
  {
   "cell_type": "markdown",
   "id": "2db21b88-0a68-46be-8c51-8ec63fc8dcd1",
   "metadata": {},
   "source": [
    "以下のセルを実行して SageMaker Python SDK のバージョンを最新にします。"
   ]
  },
  {
   "cell_type": "code",
   "execution_count": null,
   "id": "2bab8746-106c-4b9a-977c-4a8d201764bf",
   "metadata": {},
   "outputs": [],
   "source": [
    "!pip install -U sagemaker"
   ]
  },
  {
   "cell_type": "markdown",
   "id": "cf49deb0-c10c-4a1b-8b8b-08a6fd141f1d",
   "metadata": {},
   "source": [
    "以下のセルの `user_name` の文字列を、自分の名前（アルファベットと数字）に変更してから実行してください。"
   ]
  },
  {
   "cell_type": "code",
   "execution_count": null,
   "id": "1b62bf5b-55e3-4d0c-b8eb-05963059baf2",
   "metadata": {},
   "outputs": [],
   "source": [
    "import sagemaker\n",
    "from tensorflow import keras\n",
    "import numpy as np\n",
    "import os\n",
    "import matplotlib.pyplot as plt\n",
    "\n",
    "sagemaker_session = sagemaker.Session()\n",
    "bucket_name = sagemaker_session.default_bucket()\n",
    "\n",
    "project_name = 'sagemaker-keras'\n",
    "user_name = 'demo'\n",
    "prefix = os.path.join(project_name, user_name)"
   ]
  },
  {
   "cell_type": "markdown",
   "id": "c071bbda-07cd-441d-895d-bcb99c6691ea",
   "metadata": {},
   "source": [
    "## データの準備\n",
    "\n",
    "SageMaker の学習ジョブを利用するには、学習データが S3 に保存されている必要があります。このサンプルノートブックでは、[UCR アーカイブで公開されているデータ](http://www.j-wichard.de/publications/FordPaper.pdf) ら作成したCSV ファイルを学習データにします。\n",
    "\n",
    "以下のセルではデータの前処理をしています。前処理の内容は、[Keras のサンプルコード](https://github.com/keras-team/keras-io/blob/master/examples/timeseries/timeseries_classification_from_scratch.py) のものをそのまま使用しています。"
   ]
  },
  {
   "cell_type": "code",
   "execution_count": null,
   "id": "f973ab80-c081-4aed-b7ad-6ae263100211",
   "metadata": {},
   "outputs": [],
   "source": [
    "def readucr(filename):\n",
    "    data = np.loadtxt(filename, delimiter=\"\\t\")\n",
    "    y = data[:, 0]\n",
    "    x = data[:, 1:]\n",
    "    return x, y.astype(int)"
   ]
  },
  {
   "cell_type": "code",
   "execution_count": null,
   "id": "c4335a1a-7dca-4acd-8dbf-dff646b34a3a",
   "metadata": {},
   "outputs": [],
   "source": [
    "root_url = \"https://raw.githubusercontent.com/hfawaz/cd-diagram/master/FordA/\"\n",
    "\n",
    "x_train, y_train = readucr(root_url + \"FordA_TRAIN.tsv\")\n",
    "x_test, y_test = readucr(root_url + \"FordA_TEST.tsv\")"
   ]
  },
  {
   "cell_type": "code",
   "execution_count": null,
   "id": "56677cca-4c98-4d71-bfb1-ed2e7afc145d",
   "metadata": {},
   "outputs": [],
   "source": [
    "classes = np.unique(np.concatenate((y_train, y_test), axis=0))\n",
    "\n",
    "plt.figure()\n",
    "for c in classes:\n",
    "    c_x_train = x_train[y_train == c]\n",
    "    plt.plot(c_x_train[0], label=\"class \" + str(c))\n",
    "plt.legend(loc=\"best\")\n",
    "plt.show()\n",
    "plt.close()"
   ]
  },
  {
   "cell_type": "code",
   "execution_count": null,
   "id": "e56c6a4d-a60d-4a75-9aca-acfb861f08d6",
   "metadata": {},
   "outputs": [],
   "source": [
    "x_train = x_train.reshape((x_train.shape[0], x_train.shape[1], 1))\n",
    "x_test = x_test.reshape((x_test.shape[0], x_test.shape[1], 1))"
   ]
  },
  {
   "cell_type": "code",
   "execution_count": null,
   "id": "dc6830a9-4fcf-47ed-a193-e50e3ca37e78",
   "metadata": {},
   "outputs": [],
   "source": [
    "num_classes = len(np.unique(y_train))"
   ]
  },
  {
   "cell_type": "code",
   "execution_count": null,
   "id": "1bd16841-1ba9-4385-82f2-5f2b50153966",
   "metadata": {},
   "outputs": [],
   "source": [
    "idx = np.random.permutation(len(x_train))\n",
    "x_train = x_train[idx]\n",
    "y_train = y_train[idx]"
   ]
  },
  {
   "cell_type": "code",
   "execution_count": null,
   "id": "f72588b1-4c0b-4ec2-84e5-9b76a1997f2a",
   "metadata": {},
   "outputs": [],
   "source": [
    "y_train[y_train == -1] = 0\n",
    "y_test[y_test == -1] = 0"
   ]
  },
  {
   "cell_type": "code",
   "execution_count": null,
   "id": "6e9ead45-b640-4366-8cea-e89c7bff410e",
   "metadata": {},
   "outputs": [],
   "source": [
    "!mkdir data\n",
    "np.savetxt('data/x_train.csv', x_train.squeeze())\n",
    "np.savetxt('data/y_train.csv', y_train)\n",
    "np.savetxt('data/x_test.csv', x_test.squeeze())\n",
    "np.savetxt('data/y_test.csv', y_test)\n",
    "input_data = sagemaker_session.upload_data(path='./data', bucket=bucket_name, key_prefix=prefix)\n",
    "print('Training data is uploaded to: {}'.format(input_data))"
   ]
  },
  {
   "cell_type": "markdown",
   "id": "471a00f4-e92d-4ddd-be5a-1e3d6a32db2b",
   "metadata": {},
   "source": [
    "## SageMaker の学習ジョブを使ってモデルを学習\n",
    "\n",
    "ここからは、準備したデータを使ってモデルを学習します。モデルの学習はノートブックから直接実行することもできますが、SageMaker の学習ジョブ機能を使うと、学習ジョブ用のインスタンスを別途起動してその上でモデルの学習を実行することができます。そのため、ノートブックはスペックの低い（価格が安い）インスタンスで実行し、コンピュートリソースを多く必要とするモデルの学習はスペックの高いインスタンスで実行する、という使い分けが可能です。\n",
    "\n",
    "Keras を使う場合は、[Tensorflow 用の Estimator](https://sagemaker.readthedocs.io/en/stable/frameworks/tensorflow/sagemaker.tensorflow.html#tensorflow-estimator) 使用します。使用する Tensorflow のバージョンを Estimator のパラメタで指定すると、対応するコンテナイメージを SageMaker が取得して学習で使用します。SageMaker が用意しているコンテナイメージの一覧は [こちら](https://github.com/aws/deep-learning-containers/blob/master/available_images.md#prior-sagemaker-framework-container-versions) で公開されています。\n",
    "\n",
    "自前のコンテナイメージを使いたい場合は [こちらのドキュメント](https://sagemaker-examples.readthedocs.io/en/latest/advanced_functionality/tensorflow_bring_your_own/tensorflow_bring_your_own.html) を参照してください。基本的な手順としては、SageMaker Training Toolkit を入れて作成したコンテナイメージを Amazon ECR リポジトリに push し、push したイメージの URI を Estimator の image_uri パラメタにセットします。"
   ]
  },
  {
   "cell_type": "code",
   "execution_count": null,
   "id": "2a5ee98c-0eb0-4203-9026-a7cba7d15068",
   "metadata": {
    "scrolled": true,
    "tags": []
   },
   "outputs": [],
   "source": [
    "from sagemaker.tensorflow import TensorFlow\n",
    "from sagemaker import get_execution_role\n",
    "\n",
    "role = get_execution_role()\n",
    "estimator = TensorFlow(\n",
    "    entry_point=\"train.py\",\n",
    "    source_dir='code',\n",
    "    role=role,\n",
    "    instance_count=1,\n",
    "    instance_type=\"ml.m5.xlarge\",\n",
    "    framework_version=\"2.8.0\",\n",
    "    py_version='py39',\n",
    "    hyperparameters={'batch-size': 32,\n",
    "                     'num-classes': 2,\n",
    "                     'epochs': 1})\n",
    "\n",
    "estimator.fit(input_data)"
   ]
  },
  {
   "cell_type": "code",
   "execution_count": null,
   "id": "264889f8-0bf8-4ab4-9923-021ae4fdb9c6",
   "metadata": {},
   "outputs": [],
   "source": [
    "trained_model = estimator.model_data"
   ]
  },
  {
   "cell_type": "markdown",
   "id": "7fc38bef-fcdd-4393-ac21-772660a1b677",
   "metadata": {},
   "source": [
    "学習ジョブが完了すると、学習済みモデルは SageMaker によって model.tar.gz というファイルに圧縮されて S3 に自動的にアップロードされます。以下のセルを実行して、アップロードされた model.tar.gz をダウンロードして解凍します。"
   ]
  },
  {
   "cell_type": "code",
   "execution_count": null,
   "id": "123b8122-9dff-4c8f-86ec-c967dac539a4",
   "metadata": {},
   "outputs": [],
   "source": [
    "!aws s3 cp $trained_model ./\n",
    "!tar zvxf model.tar.gz"
   ]
  },
  {
   "cell_type": "markdown",
   "id": "d2700407-8a03-483d-99c6-4ea84382d3e1",
   "metadata": {},
   "source": [
    "展開されたモデルを使って Keras の API を使って推論を実行します。問題なく推論を実行できたはずです。"
   ]
  },
  {
   "cell_type": "code",
   "execution_count": null,
   "id": "9cb14309-cab2-43e2-99fe-caf12d62a774",
   "metadata": {},
   "outputs": [],
   "source": [
    "model = keras.models.load_model(\"model/1\")\n",
    "model.predict(x_test)"
   ]
  },
  {
   "cell_type": "markdown",
   "id": "83d83217-4506-42fd-b991-13beee8d4a60",
   "metadata": {},
   "source": [
    "## Estimator を使って SageMaker 推論エンドポイントを起動する\n",
    "\n",
    "上のセルで試した通り、学習したモデルは Keras を使える環境であればどこででも実行することができます。モデルを推論エンドポイントにデプロイしてリアルタイム推論で利用する場合に、SageMaker の推論エンドポイント機能が便利です。\n",
    "\n",
    "以下のように、学習に使用した Estimator を使って、SageMaker のリアルタイム推論エンドポイントを起動することができます。Serving の詳細は [こちらのドキュメント](https://sagemaker.readthedocs.io/en/stable/frameworks/tensorflow/deploying_tensorflow_serving.html) をご参照ください。"
   ]
  },
  {
   "cell_type": "code",
   "execution_count": null,
   "id": "a53011d2-5230-416c-9678-d40a12e7a4ab",
   "metadata": {},
   "outputs": [],
   "source": [
    "predictor = estimator.deploy(\n",
    "    initial_instance_count=1,\n",
    "    instance_type='ml.m5.xlarge'\n",
    ")"
   ]
  },
  {
   "cell_type": "markdown",
   "id": "49b2c1c0-564f-4df6-bf27-e1a7604ecc51",
   "metadata": {},
   "source": [
    "推論エンドポイントを使って推論を実行します。"
   ]
  },
  {
   "cell_type": "code",
   "execution_count": null,
   "id": "986d2fe3-ba77-4936-b14d-9084c3d81093",
   "metadata": {
    "scrolled": true,
    "tags": []
   },
   "outputs": [],
   "source": [
    "predictor.predict(x_test)"
   ]
  },
  {
   "cell_type": "markdown",
   "id": "3e2bb668-1ded-43da-8271-9f040cfabd9e",
   "metadata": {},
   "source": [
    "推論エンドポイントは、稼働している間課金が続くため、不要になったら忘れずに削除してください。"
   ]
  },
  {
   "cell_type": "code",
   "execution_count": null,
   "id": "431ea65b-ffb0-4b6d-b2a1-5e45519b1dc7",
   "metadata": {},
   "outputs": [],
   "source": [
    "predictor.delete_endpoint()"
   ]
  },
  {
   "cell_type": "code",
   "execution_count": null,
   "id": "de1ca130-c86b-4ed3-b4f8-80521f2a984d",
   "metadata": {},
   "outputs": [],
   "source": []
  }
 ],
 "metadata": {
  "instance_type": "ml.t3.medium",
  "kernelspec": {
   "display_name": "Python 3 (TensorFlow 2.6 Python 3.8 CPU Optimized)",
   "language": "python",
   "name": "python3__SAGEMAKER_INTERNAL__arn:aws:sagemaker:us-east-1:081325390199:image/tensorflow-2.6-cpu-py38-ubuntu20.04-v1"
  },
  "language_info": {
   "codemirror_mode": {
    "name": "ipython",
    "version": 3
   },
   "file_extension": ".py",
   "mimetype": "text/x-python",
   "name": "python",
   "nbconvert_exporter": "python",
   "pygments_lexer": "ipython3",
   "version": "3.8.2"
  }
 },
 "nbformat": 4,
 "nbformat_minor": 5
}
