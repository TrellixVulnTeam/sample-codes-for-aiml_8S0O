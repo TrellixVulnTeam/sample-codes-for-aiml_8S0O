{
 "cells": [
  {
   "cell_type": "markdown",
   "id": "cc825bac",
   "metadata": {},
   "source": [
    "# Amazon SageMaker scikit-learn コンテナを使って NearestNeighbors の学習、推論を行う\n",
    "\n",
    "\n",
    "---\n",
    "\n",
    "このサンプルノートブックでは、SageMaker が用意した scikit-learn のコンテナを使って NearestNeighbors の学習と、学習したモデルを使った推論を行います。\n",
    "\n",
    "まず初めに、SageMaker Python SDK を使ってジョブを起動する方法を紹介します。その後同様の操作を boto3 を使って行う方法を紹介します。\n",
    "\n",
    "---\n",
    "## セットアップ\n",
    "\n",
    "必要なライブラリやパラメタを準備します。"
   ]
  },
  {
   "cell_type": "code",
   "execution_count": 3,
   "id": "9db2f732",
   "metadata": {},
   "outputs": [
    {
     "name": "stdout",
     "output_type": "stream",
     "text": [
      "bucket: sagemaker-us-east-1-420964472730\n"
     ]
    }
   ],
   "source": [
    "import os\n",
    "import boto3\n",
    "import re\n",
    "import json\n",
    "import pandas as pd\n",
    "import numpy as np\n",
    "import sagemaker\n",
    "from sagemaker import get_execution_role\n",
    "from sagemaker.sklearn.model import SKLearnModel\n",
    "from sklearn.datasets import fetch_california_housing\n",
    "\n",
    "sagemaker_session = sagemaker.Session()\n",
    "region = boto3.Session().region_name\n",
    "\n",
    "role = get_execution_role()\n",
    "\n",
    "project_name = 'sklearn-byo-script'\n",
    "user_name = 'demo2'\n",
    "bucket = sagemaker.Session().default_bucket()\n",
    "prefix = f\"sagemaker/{project_name}\"\n",
    "\n",
    "print(f\"bucket: {bucket}\")"
   ]
  },
  {
   "cell_type": "markdown",
   "id": "3883794d",
   "metadata": {},
   "source": [
    "## データの準備\n",
    "\n",
    "このサンプルノートブックでは scikit-learn が用意したデータセットを使用します。"
   ]
  },
  {
   "cell_type": "code",
   "execution_count": 4,
   "id": "eab94386",
   "metadata": {
    "scrolled": true
   },
   "outputs": [
    {
     "data": {
      "text/plain": [
       "{'data': array([[1.423e+01, 1.710e+00, 2.430e+00, ..., 1.040e+00, 3.920e+00,\n",
       "         1.065e+03],\n",
       "        [1.320e+01, 1.780e+00, 2.140e+00, ..., 1.050e+00, 3.400e+00,\n",
       "         1.050e+03],\n",
       "        [1.316e+01, 2.360e+00, 2.670e+00, ..., 1.030e+00, 3.170e+00,\n",
       "         1.185e+03],\n",
       "        ...,\n",
       "        [1.327e+01, 4.280e+00, 2.260e+00, ..., 5.900e-01, 1.560e+00,\n",
       "         8.350e+02],\n",
       "        [1.317e+01, 2.590e+00, 2.370e+00, ..., 6.000e-01, 1.620e+00,\n",
       "         8.400e+02],\n",
       "        [1.413e+01, 4.100e+00, 2.740e+00, ..., 6.100e-01, 1.600e+00,\n",
       "         5.600e+02]]),\n",
       " 'target': array([0, 0, 0, 0, 0, 0, 0, 0, 0, 0, 0, 0, 0, 0, 0, 0, 0, 0, 0, 0, 0, 0,\n",
       "        0, 0, 0, 0, 0, 0, 0, 0, 0, 0, 0, 0, 0, 0, 0, 0, 0, 0, 0, 0, 0, 0,\n",
       "        0, 0, 0, 0, 0, 0, 0, 0, 0, 0, 0, 0, 0, 0, 0, 1, 1, 1, 1, 1, 1, 1,\n",
       "        1, 1, 1, 1, 1, 1, 1, 1, 1, 1, 1, 1, 1, 1, 1, 1, 1, 1, 1, 1, 1, 1,\n",
       "        1, 1, 1, 1, 1, 1, 1, 1, 1, 1, 1, 1, 1, 1, 1, 1, 1, 1, 1, 1, 1, 1,\n",
       "        1, 1, 1, 1, 1, 1, 1, 1, 1, 1, 1, 1, 1, 1, 1, 1, 1, 1, 1, 1, 2, 2,\n",
       "        2, 2, 2, 2, 2, 2, 2, 2, 2, 2, 2, 2, 2, 2, 2, 2, 2, 2, 2, 2, 2, 2,\n",
       "        2, 2, 2, 2, 2, 2, 2, 2, 2, 2, 2, 2, 2, 2, 2, 2, 2, 2, 2, 2, 2, 2,\n",
       "        2, 2]),\n",
       " 'frame': None,\n",
       " 'target_names': array(['class_0', 'class_1', 'class_2'], dtype='<U7'),\n",
       " 'DESCR': '.. _wine_dataset:\\n\\nWine recognition dataset\\n------------------------\\n\\n**Data Set Characteristics:**\\n\\n    :Number of Instances: 178 (50 in each of three classes)\\n    :Number of Attributes: 13 numeric, predictive attributes and the class\\n    :Attribute Information:\\n \\t\\t- Alcohol\\n \\t\\t- Malic acid\\n \\t\\t- Ash\\n\\t\\t- Alcalinity of ash  \\n \\t\\t- Magnesium\\n\\t\\t- Total phenols\\n \\t\\t- Flavanoids\\n \\t\\t- Nonflavanoid phenols\\n \\t\\t- Proanthocyanins\\n\\t\\t- Color intensity\\n \\t\\t- Hue\\n \\t\\t- OD280/OD315 of diluted wines\\n \\t\\t- Proline\\n\\n    - class:\\n            - class_0\\n            - class_1\\n            - class_2\\n\\t\\t\\n    :Summary Statistics:\\n    \\n    ============================= ==== ===== ======= =====\\n                                   Min   Max   Mean     SD\\n    ============================= ==== ===== ======= =====\\n    Alcohol:                      11.0  14.8    13.0   0.8\\n    Malic Acid:                   0.74  5.80    2.34  1.12\\n    Ash:                          1.36  3.23    2.36  0.27\\n    Alcalinity of Ash:            10.6  30.0    19.5   3.3\\n    Magnesium:                    70.0 162.0    99.7  14.3\\n    Total Phenols:                0.98  3.88    2.29  0.63\\n    Flavanoids:                   0.34  5.08    2.03  1.00\\n    Nonflavanoid Phenols:         0.13  0.66    0.36  0.12\\n    Proanthocyanins:              0.41  3.58    1.59  0.57\\n    Colour Intensity:              1.3  13.0     5.1   2.3\\n    Hue:                          0.48  1.71    0.96  0.23\\n    OD280/OD315 of diluted wines: 1.27  4.00    2.61  0.71\\n    Proline:                       278  1680     746   315\\n    ============================= ==== ===== ======= =====\\n\\n    :Missing Attribute Values: None\\n    :Class Distribution: class_0 (59), class_1 (71), class_2 (48)\\n    :Creator: R.A. Fisher\\n    :Donor: Michael Marshall (MARSHALL%PLU@io.arc.nasa.gov)\\n    :Date: July, 1988\\n\\nThis is a copy of UCI ML Wine recognition datasets.\\nhttps://archive.ics.uci.edu/ml/machine-learning-databases/wine/wine.data\\n\\nThe data is the results of a chemical analysis of wines grown in the same\\nregion in Italy by three different cultivators. There are thirteen different\\nmeasurements taken for different constituents found in the three types of\\nwine.\\n\\nOriginal Owners: \\n\\nForina, M. et al, PARVUS - \\nAn Extendible Package for Data Exploration, Classification and Correlation. \\nInstitute of Pharmaceutical and Food Analysis and Technologies,\\nVia Brigata Salerno, 16147 Genoa, Italy.\\n\\nCitation:\\n\\nLichman, M. (2013). UCI Machine Learning Repository\\n[https://archive.ics.uci.edu/ml]. Irvine, CA: University of California,\\nSchool of Information and Computer Science. \\n\\n.. topic:: References\\n\\n  (1) S. Aeberhard, D. Coomans and O. de Vel, \\n  Comparison of Classifiers in High Dimensional Settings, \\n  Tech. Rep. no. 92-02, (1992), Dept. of Computer Science and Dept. of  \\n  Mathematics and Statistics, James Cook University of North Queensland. \\n  (Also submitted to Technometrics). \\n\\n  The data was used with many others for comparing various \\n  classifiers. The classes are separable, though only RDA \\n  has achieved 100% correct classification. \\n  (RDA : 100%, QDA 99.4%, LDA 98.9%, 1NN 96.1% (z-transformed data)) \\n  (All results using the leave-one-out technique) \\n\\n  (2) S. Aeberhard, D. Coomans and O. de Vel, \\n  \"THE CLASSIFICATION PERFORMANCE OF RDA\" \\n  Tech. Rep. no. 92-01, (1992), Dept. of Computer Science and Dept. of \\n  Mathematics and Statistics, James Cook University of North Queensland. \\n  (Also submitted to Journal of Chemometrics).\\n',\n",
       " 'feature_names': ['alcohol',\n",
       "  'malic_acid',\n",
       "  'ash',\n",
       "  'alcalinity_of_ash',\n",
       "  'magnesium',\n",
       "  'total_phenols',\n",
       "  'flavanoids',\n",
       "  'nonflavanoid_phenols',\n",
       "  'proanthocyanins',\n",
       "  'color_intensity',\n",
       "  'hue',\n",
       "  'od280/od315_of_diluted_wines',\n",
       "  'proline']}"
      ]
     },
     "execution_count": 4,
     "metadata": {},
     "output_type": "execute_result"
    }
   ],
   "source": [
    "from sklearn.datasets import load_wine\n",
    "\n",
    "data = load_wine()\n",
    "data"
   ]
  },
  {
   "cell_type": "markdown",
   "id": "8adf6c3c",
   "metadata": {},
   "source": [
    "取得したデータには特徴量、ターゲット変数、メタデータなどが含まれるので、特徴量部分のみを抜き出して CSV ファイルにしてから S3 にアップロードします。"
   ]
  },
  {
   "cell_type": "code",
   "execution_count": 5,
   "id": "61ae49bf",
   "metadata": {},
   "outputs": [],
   "source": [
    "import pandas as pd\n",
    "pd.DataFrame(data['data']).to_csv('wine.csv', index=False, header=False)"
   ]
  },
  {
   "cell_type": "code",
   "execution_count": 6,
   "id": "06593c73",
   "metadata": {},
   "outputs": [
    {
     "name": "stdout",
     "output_type": "stream",
     "text": [
      "input spec (in this case, just an S3 path): s3://sagemaker-us-east-1-420964472730/sklearn-byo-script/wine.csv\n"
     ]
    }
   ],
   "source": [
    "inputs = sagemaker_session.upload_data(path='wine.csv', bucket=bucket, key_prefix=f'{project_name}/{user_name}')\n",
    "print('input spec (in this case, just an S3 path): {}'.format(inputs))"
   ]
  },
  {
   "cell_type": "markdown",
   "id": "fd7dd47d",
   "metadata": {},
   "source": [
    "## SageMaker 学習ジョブを使って knn を学習する \n",
    "\n",
    "code/train ディレクトリの中の train.py を使って knn を学習します。code ディレクトリの中に requirements.txt があると、学習インスタンス起動時に SageMaker が自動的にそこに書かれたライブラリを pip install してくれます。\n",
    "\n",
    "SageMaker Job は全てのジョブ名がユニークである必要があります。Scikit-learn 用の Estimator である SKLearn を作成する際に、パラメタ base_job_name にprefix を指定しておくと、SageMaker が自動的にタイムスタンプを付与します。フルでジョブ名を指定したい場合は fit() のパラメタ job_name を指定します。"
   ]
  },
  {
   "cell_type": "code",
   "execution_count": 7,
   "id": "43216e39",
   "metadata": {},
   "outputs": [
    {
     "name": "stderr",
     "output_type": "stream",
     "text": [
      "train_instance_type has been renamed in sagemaker>=2.\n",
      "See: https://sagemaker.readthedocs.io/en/stable/v2.html for details.\n",
      "train_instance_type has been renamed in sagemaker>=2.\n",
      "See: https://sagemaker.readthedocs.io/en/stable/v2.html for details.\n"
     ]
    },
    {
     "name": "stdout",
     "output_type": "stream",
     "text": [
      "2022-08-05 01:26:27 Starting - Starting the training job...\n",
      "2022-08-05 01:26:51 Starting - Preparing the instances for trainingProfilerReport-1659662787: InProgress\n",
      "......\n",
      "2022-08-05 01:27:52 Downloading - Downloading input data...\n",
      "2022-08-05 01:28:27 Training - Downloading the training image......\n",
      "2022-08-05 01:29:18 Training - Training image download completed. Training in progress..\u001b[34m2022-08-05 01:29:20,574 sagemaker-containers INFO     Imported framework sagemaker_sklearn_container.training\u001b[0m\n",
      "\u001b[34m2022-08-05 01:29:20,578 sagemaker-training-toolkit INFO     No GPUs detected (normal if no gpus installed)\u001b[0m\n",
      "\u001b[34m2022-08-05 01:29:20,594 sagemaker_sklearn_container.training INFO     Invoking user training script.\u001b[0m\n",
      "\u001b[34m2022-08-05 01:29:21,011 sagemaker-training-toolkit INFO     Installing dependencies from requirements.txt:\u001b[0m\n",
      "\u001b[34m/miniconda3/bin/python -m pip install -r requirements.txt\u001b[0m\n",
      "\u001b[34mWARNING: Running pip as the 'root' user can result in broken permissions and conflicting behaviour with the system package manager. It is recommended to use a virtual environment instead: https://pip.pypa.io/warnings/venv\u001b[0m\n",
      "\u001b[34m2022-08-05 01:29:22,809 sagemaker-training-toolkit INFO     No GPUs detected (normal if no gpus installed)\u001b[0m\n",
      "\u001b[34m2022-08-05 01:29:22,828 sagemaker-training-toolkit INFO     No GPUs detected (normal if no gpus installed)\u001b[0m\n",
      "\u001b[34m2022-08-05 01:29:22,848 sagemaker-training-toolkit INFO     No GPUs detected (normal if no gpus installed)\u001b[0m\n",
      "\u001b[34m2022-08-05 01:29:22,863 sagemaker-training-toolkit INFO     Invoking user script\u001b[0m\n",
      "\u001b[34mTraining Env:\u001b[0m\n",
      "\u001b[34m{\n",
      "    \"additional_framework_parameters\": {},\n",
      "    \"channel_input_dirs\": {\n",
      "        \"train\": \"/opt/ml/input/data/train\"\n",
      "    },\n",
      "    \"current_host\": \"algo-1\",\n",
      "    \"framework_module\": \"sagemaker_sklearn_container.training:main\",\n",
      "    \"hosts\": [\n",
      "        \"algo-1\"\n",
      "    ],\n",
      "    \"hyperparameters\": {\n",
      "        \"n_neighbors\": 2,\n",
      "        \"radius\": 0.4\n",
      "    },\n",
      "    \"input_config_dir\": \"/opt/ml/input/config\",\n",
      "    \"input_data_config\": {\n",
      "        \"train\": {\n",
      "            \"TrainingInputMode\": \"File\",\n",
      "            \"S3DistributionType\": \"FullyReplicated\",\n",
      "            \"RecordWrapperType\": \"None\"\n",
      "        }\n",
      "    },\n",
      "    \"input_dir\": \"/opt/ml/input\",\n",
      "    \"is_master\": true,\n",
      "    \"job_name\": \"sklearn-byo-script-demo2-2022-08-05-01-26-27-270\",\n",
      "    \"log_level\": 20,\n",
      "    \"master_hostname\": \"algo-1\",\n",
      "    \"model_dir\": \"/opt/ml/model\",\n",
      "    \"module_dir\": \"s3://sagemaker-us-east-1-420964472730/sklearn-byo-script-demo2-2022-08-05-01-26-27-270/source/sourcedir.tar.gz\",\n",
      "    \"module_name\": \"train\",\n",
      "    \"network_interface_name\": \"eth0\",\n",
      "    \"num_cpus\": 2,\n",
      "    \"num_gpus\": 0,\n",
      "    \"output_data_dir\": \"/opt/ml/output/data\",\n",
      "    \"output_dir\": \"/opt/ml/output\",\n",
      "    \"output_intermediate_dir\": \"/opt/ml/output/intermediate\",\n",
      "    \"resource_config\": {\n",
      "        \"current_host\": \"algo-1\",\n",
      "        \"current_instance_type\": \"ml.m5.large\",\n",
      "        \"current_group_name\": \"homogeneousCluster\",\n",
      "        \"hosts\": [\n",
      "            \"algo-1\"\n",
      "        ],\n",
      "        \"instance_groups\": [\n",
      "            {\n",
      "                \"instance_group_name\": \"homogeneousCluster\",\n",
      "                \"instance_type\": \"ml.m5.large\",\n",
      "                \"hosts\": [\n",
      "                    \"algo-1\"\n",
      "                ]\n",
      "            }\n",
      "        ],\n",
      "        \"network_interface_name\": \"eth0\"\n",
      "    },\n",
      "    \"user_entry_point\": \"train.py\"\u001b[0m\n",
      "\u001b[34m}\u001b[0m\n",
      "\u001b[34mEnvironment variables:\u001b[0m\n",
      "\u001b[34mSM_HOSTS=[\"algo-1\"]\u001b[0m\n",
      "\u001b[34mSM_NETWORK_INTERFACE_NAME=eth0\u001b[0m\n",
      "\u001b[34mSM_HPS={\"n_neighbors\":2,\"radius\":0.4}\u001b[0m\n",
      "\u001b[34mSM_USER_ENTRY_POINT=train.py\u001b[0m\n",
      "\u001b[34mSM_FRAMEWORK_PARAMS={}\u001b[0m\n",
      "\u001b[34mSM_RESOURCE_CONFIG={\"current_group_name\":\"homogeneousCluster\",\"current_host\":\"algo-1\",\"current_instance_type\":\"ml.m5.large\",\"hosts\":[\"algo-1\"],\"instance_groups\":[{\"hosts\":[\"algo-1\"],\"instance_group_name\":\"homogeneousCluster\",\"instance_type\":\"ml.m5.large\"}],\"network_interface_name\":\"eth0\"}\u001b[0m\n",
      "\u001b[34mSM_INPUT_DATA_CONFIG={\"train\":{\"RecordWrapperType\":\"None\",\"S3DistributionType\":\"FullyReplicated\",\"TrainingInputMode\":\"File\"}}\u001b[0m\n",
      "\u001b[34mSM_OUTPUT_DATA_DIR=/opt/ml/output/data\u001b[0m\n",
      "\u001b[34mSM_CHANNELS=[\"train\"]\u001b[0m\n",
      "\u001b[34mSM_CURRENT_HOST=algo-1\u001b[0m\n",
      "\u001b[34mSM_MODULE_NAME=train\u001b[0m\n",
      "\u001b[34mSM_LOG_LEVEL=20\u001b[0m\n",
      "\u001b[34mSM_FRAMEWORK_MODULE=sagemaker_sklearn_container.training:main\u001b[0m\n",
      "\u001b[34mSM_INPUT_DIR=/opt/ml/input\u001b[0m\n",
      "\u001b[34mSM_INPUT_CONFIG_DIR=/opt/ml/input/config\u001b[0m\n",
      "\u001b[34mSM_OUTPUT_DIR=/opt/ml/output\u001b[0m\n",
      "\u001b[34mSM_NUM_CPUS=2\u001b[0m\n",
      "\u001b[34mSM_NUM_GPUS=0\u001b[0m\n",
      "\u001b[34mSM_MODEL_DIR=/opt/ml/model\u001b[0m\n",
      "\u001b[34mSM_MODULE_DIR=s3://sagemaker-us-east-1-420964472730/sklearn-byo-script-demo2-2022-08-05-01-26-27-270/source/sourcedir.tar.gz\u001b[0m\n",
      "\u001b[34mSM_TRAINING_ENV={\"additional_framework_parameters\":{},\"channel_input_dirs\":{\"train\":\"/opt/ml/input/data/train\"},\"current_host\":\"algo-1\",\"framework_module\":\"sagemaker_sklearn_container.training:main\",\"hosts\":[\"algo-1\"],\"hyperparameters\":{\"n_neighbors\":2,\"radius\":0.4},\"input_config_dir\":\"/opt/ml/input/config\",\"input_data_config\":{\"train\":{\"RecordWrapperType\":\"None\",\"S3DistributionType\":\"FullyReplicated\",\"TrainingInputMode\":\"File\"}},\"input_dir\":\"/opt/ml/input\",\"is_master\":true,\"job_name\":\"sklearn-byo-script-demo2-2022-08-05-01-26-27-270\",\"log_level\":20,\"master_hostname\":\"algo-1\",\"model_dir\":\"/opt/ml/model\",\"module_dir\":\"s3://sagemaker-us-east-1-420964472730/sklearn-byo-script-demo2-2022-08-05-01-26-27-270/source/sourcedir.tar.gz\",\"module_name\":\"train\",\"network_interface_name\":\"eth0\",\"num_cpus\":2,\"num_gpus\":0,\"output_data_dir\":\"/opt/ml/output/data\",\"output_dir\":\"/opt/ml/output\",\"output_intermediate_dir\":\"/opt/ml/output/intermediate\",\"resource_config\":{\"current_group_name\":\"homogeneousCluster\",\"current_host\":\"algo-1\",\"current_instance_type\":\"ml.m5.large\",\"hosts\":[\"algo-1\"],\"instance_groups\":[{\"hosts\":[\"algo-1\"],\"instance_group_name\":\"homogeneousCluster\",\"instance_type\":\"ml.m5.large\"}],\"network_interface_name\":\"eth0\"},\"user_entry_point\":\"train.py\"}\u001b[0m\n",
      "\u001b[34mSM_USER_ARGS=[\"--n_neighbors\",\"2\",\"--radius\",\"0.4\"]\u001b[0m\n",
      "\u001b[34mSM_OUTPUT_INTERMEDIATE_DIR=/opt/ml/output/intermediate\u001b[0m\n",
      "\u001b[34mSM_CHANNEL_TRAIN=/opt/ml/input/data/train\u001b[0m\n",
      "\u001b[34mSM_HP_N_NEIGHBORS=2\u001b[0m\n",
      "\u001b[34mSM_HP_RADIUS=0.4\u001b[0m\n",
      "\u001b[34mPYTHONPATH=/opt/ml/code:/miniconda3/bin:/miniconda3/lib/python38.zip:/miniconda3/lib/python3.8:/miniconda3/lib/python3.8/lib-dynload:/miniconda3/lib/python3.8/site-packages\u001b[0m\n",
      "\u001b[34mInvoking script with the following command:\u001b[0m\n",
      "\u001b[34m/miniconda3/bin/python train.py --n_neighbors 2 --radius 0.4\u001b[0m\n",
      "\u001b[34mTraining has finished!\u001b[0m\n",
      "\u001b[34m2022-08-05 01:29:24,637 sagemaker-containers INFO     Reporting training SUCCESS\u001b[0m\n",
      "\n",
      "2022-08-05 01:29:52 Uploading - Uploading generated training model\n",
      "2022-08-05 01:29:52 Completed - Training job completed\n",
      "Training seconds: 112\n",
      "Billable seconds: 112\n"
     ]
    }
   ],
   "source": [
    "from sagemaker.sklearn.estimator import SKLearn\n",
    "\n",
    "script_path = 'train.py'\n",
    "\n",
    "# run the Scikit-Learn script\n",
    "sklearn = SKLearn(\n",
    "    base_job_name=project_name+'-'+user_name,\n",
    "    entry_point=script_path,\n",
    "    source_dir='code/train',\n",
    "    train_instance_type=\"ml.m5.large\",\n",
    "    role=role,\n",
    "    framework_version='1.0-1',\n",
    "    py_version='py3',\n",
    "    sagemaker_session=sagemaker_session,\n",
    "    hyperparameters={\n",
    "        'n_neighbors': 2,\n",
    "        'radius': 0.4\n",
    "#         'metric': 'cosine'\n",
    "    })\n",
    "    \n",
    "sklearn.fit({'train':inputs})"
   ]
  },
  {
   "cell_type": "markdown",
   "id": "0451fed0",
   "metadata": {},
   "source": [
    "## 学習したモデルを使ってバッチ推論を実行する\n",
    "\n",
    "SageMaker Processing を使ってバッチ推論を実行します。SageMaker Processing は、任意のコンテナとスクリプトを使ってジョブを柔軟に実行できる機能です。実行するスクリプトはオンプレミスなどのローカル環境で動作するものをほぼそのまま利用できます。[SageMaker バッチ変換](https://docs.aws.amazon.com/ja_jp/sagemaker/latest/dg/batch-transform.html) の機能でもバッチ推論は可能ですが、こちらは [SageMaker の仕様](https://sagemaker.readthedocs.io/en/stable/frameworks/sklearn/using_sklearn.html#serve-a-model) に則って推論スクリプトを書く必要があります。\n",
    "\n",
    "以下のセルを実行して SageMaker が用意している Scikit-learn のコンテナイメージの URI を取得します。SageMaker のビルトインコンテナイメージは AWS が公開している Amazon ECR リポジトリに保存されています。"
   ]
  },
  {
   "cell_type": "code",
   "execution_count": 8,
   "id": "1b2be659",
   "metadata": {},
   "outputs": [
    {
     "data": {
      "text/plain": [
       "'683313688378.dkr.ecr.us-east-1.amazonaws.com/sagemaker-scikit-learn:1.0-1-cpu-py3'"
      ]
     },
     "execution_count": 8,
     "metadata": {},
     "output_type": "execute_result"
    }
   ],
   "source": [
    "from sagemaker.image_uris import retrieve\n",
    "\n",
    "inference_repository_uri = retrieve(\n",
    "    framework='sklearn',\n",
    "    region=region,\n",
    "    version='1.0-1',\n",
    "    py_version='py3',\n",
    "    instance_type='ml.m5.xlarge',\n",
    "    \n",
    ")\n",
    "inference_repository_uri"
   ]
  },
  {
   "cell_type": "code",
   "execution_count": 9,
   "id": "f6bd1fcc",
   "metadata": {},
   "outputs": [
    {
     "name": "stdout",
     "output_type": "stream",
     "text": [
      "\n",
      "Job Name:  sklearn-byo-script-demo2-20220805-103010\n",
      "Inputs:  [{'InputName': 'code', 'AppManaged': False, 'S3Input': {'S3Uri': 's3://sagemaker-us-east-1-420964472730/sagemaker/sklearn-byo-script/code/inference/20220805-103010', 'LocalPath': '/opt/ml/processing/input/code', 'S3DataType': 'S3Prefix', 'S3InputMode': 'File', 'S3DataDistributionType': 'FullyReplicated', 'S3CompressionType': 'None'}}, {'InputName': 'data', 'AppManaged': False, 'S3Input': {'S3Uri': 's3://sagemaker-us-east-1-420964472730/sklearn-byo-script/wine.csv', 'LocalPath': '/opt/ml/processing/input/data', 'S3DataType': 'S3Prefix', 'S3InputMode': 'File', 'S3DataDistributionType': 'FullyReplicated', 'S3CompressionType': 'None'}}, {'InputName': 'model', 'AppManaged': False, 'S3Input': {'S3Uri': 's3://sagemaker-us-east-1-420964472730/sklearn-byo-script-demo2-2022-08-05-01-26-27-270/output/model.tar.gz', 'LocalPath': '/opt/ml/processing/input/model', 'S3DataType': 'S3Prefix', 'S3InputMode': 'File', 'S3DataDistributionType': 'FullyReplicated', 'S3CompressionType': 'None'}}]\n",
      "Outputs:  [{'OutputName': 'result', 'AppManaged': False, 'S3Output': {'S3Uri': 's3://sagemaker-us-east-1-420964472730/sagemaker/sklearn-byo-script/inference/sklearn-byo-script-demo2-20220805-103010', 'LocalPath': '/opt/ml/processing/output', 'S3UploadMode': 'EndOfJob'}}]\n"
     ]
    },
    {
     "data": {
      "text/markdown": [
       "<a href=\"https://s3.console.aws.amazon.com/s3/buckets/sagemaker-us-east-1-420964472730?region=us-east-1&prefix=sagemaker/sklearn-byo-script/inference/sklearn-byo-script-demo2-20220805-103010/&showversions=false\" target=\"_blank\">推論結果 (S3)</a>"
      ],
      "text/plain": [
       "<IPython.core.display.Markdown object>"
      ]
     },
     "metadata": {},
     "output_type": "display_data"
    }
   ],
   "source": [
    "from sagemaker.processing import Processor, ProcessingInput, ProcessingOutput\n",
    "from datetime import datetime\n",
    "from dateutil import tz\n",
    "\n",
    "JST = tz.gettz('Asia/Tokyo')\n",
    "timestamp = datetime.now(JST).strftime('%Y%m%d-%H%M%S')\n",
    "\n",
    "inference_job_name = project_name + '-' + user_name + '-' + timestamp\n",
    "inference_input_data = inputs\n",
    "inference_model = sklearn.model_data\n",
    "inference_output_data = f's3://{bucket}/{prefix}/inference/{inference_job_name}'\n",
    "code_path = '/opt/ml/processing/input/code'\n",
    "input_dir = '/opt/ml/processing/input/data'\n",
    "model_dir =  '/opt/ml/processing/input/model'\n",
    "output_dir = '/opt/ml/processing/output'\n",
    "\n",
    "SCRIPT_LOCATION = \"code/inference\"\n",
    "\n",
    "code_s3_path = sagemaker_session.upload_data(\n",
    "    SCRIPT_LOCATION,\n",
    "    bucket=bucket,\n",
    "    key_prefix=os.path.join(prefix, SCRIPT_LOCATION, timestamp),\n",
    ")\n",
    "\n",
    "# 入力データの設定\n",
    "# バッチ推論をするために必要なソースコード、データ、モデルをインスタンスで使用するためのパスの設定\n",
    "# source で指定した S3 パスから destination で指定したローカルパスに自動的にァイルがダウンロードされる\n",
    "inference_inputs = [\n",
    "    ProcessingInput(\n",
    "        input_name='code',\n",
    "        source=code_s3_path,\n",
    "        destination=code_path\n",
    "    ),\n",
    "    ProcessingInput(\n",
    "        input_name=\"data\",\n",
    "        source=inference_input_data,\n",
    "        destination=input_dir\n",
    "    ),\n",
    "    ProcessingInput(\n",
    "        input_name=\"model\",\n",
    "        source=inference_model,\n",
    "        destination=model_dir\n",
    "    )\n",
    "]\n",
    "\n",
    "# 出力データの設定\n",
    "# 推論結果を保存するパスに関する設定\n",
    "# source で指定したローカルパスから destination で指定した S3 パスに自動的にファイルがアップロードされる\n",
    "inference_outputs = [\n",
    "    ProcessingOutput(\n",
    "        output_name=\"result\",\n",
    "        source=output_dir,\n",
    "        destination=inference_output_data,\n",
    "    )\n",
    "]\n",
    "\n",
    "inference_processor = Processor(\n",
    "        role=role,\n",
    "        image_uri=inference_repository_uri,\n",
    "        entrypoint=[\"python3\", f\"{code_path}/inference.py\"],\n",
    "        instance_count=1, \n",
    "        instance_type=\"ml.m5.xlarge\",\n",
    "        volume_size_in_gb=16,\n",
    "        volume_kms_key=None,\n",
    "        output_kms_key=None,\n",
    "        max_runtime_in_seconds=86400,  # default is 24 hours(60*60*24)\n",
    "        sagemaker_session=None,\n",
    "        env=None,\n",
    "        network_config=None\n",
    "    )\n",
    "\n",
    "inference_processor.run(\n",
    "    job_name=inference_job_name,\n",
    "    inputs=inference_inputs,\n",
    "     outputs=inference_outputs,\n",
    "    arguments=['--n_neighbors', '2'],\n",
    "    logs=False,\n",
    "    wait=False\n",
    ")\n",
    "from IPython.display import display, Markdown\n",
    "display(Markdown(f\"<a href=\\\"https://s3.console.aws.amazon.com/s3/buckets/{bucket}?region={region}&prefix={prefix}/inference/{inference_job_name}/&showversions=false\\\" target=\\\"_blank\\\">推論結果 (S3)</a>\"))\n"
   ]
  },
  {
   "cell_type": "markdown",
   "id": "9073d36a",
   "metadata": {},
   "source": [
    "## boto3 を使ってジョブを実行する\n",
    "\n",
    "ここまでは、SageMaker Python SDK を使って Training Job, Processing Job を実行しました。SageMaker Python SDK は非常に便利ですが、boto3 のみしか使えない環境では boto3 を使って同様のことが可能です。SageMaker Python SDK がよしなにやっていた部分を明示的に記述する必要がありますが、インフラ部分の細かな設定などは boto3 からのみ実行することができます。\n",
    "\n",
    "### モデルの学習\n",
    "\n",
    "学習ジョブで使用するソースコードは sourcedir.tar.gz という名前の tar.gz ファイルに圧縮して S3 にアップロードします。圧縮ファイル直下にファイルが配置されるようにしてください（ソースコードが入ったフォルダごと圧縮しない）。"
   ]
  },
  {
   "cell_type": "code",
   "execution_count": 10,
   "id": "6266d684",
   "metadata": {},
   "outputs": [
    {
     "name": "stdout",
     "output_type": "stream",
     "text": [
      "./requirements.txt\r\n",
      "./train.py\r\n"
     ]
    },
    {
     "data": {
      "text/plain": [
       "'s3://sagemaker-us-east-1-420964472730/sagemaker/sklearn-byo-script/code/train/20220805-103010/sourcedir.tar.gz'"
      ]
     },
     "execution_count": 10,
     "metadata": {},
     "output_type": "execute_result"
    }
   ],
   "source": [
    "SCRIPT_LOCATION = \"code/train\"\n",
    "TRAINNING_SCRIPT_LOCATION = \"sourcedir.tar.gz\"\n",
    "!cd $SCRIPT_LOCATION && tar zcvf ../../$TRAINNING_SCRIPT_LOCATION ./*\n",
    "\n",
    "train_code_s3_path = sagemaker_session.upload_data(\n",
    "    TRAINNING_SCRIPT_LOCATION,\n",
    "    bucket=bucket,\n",
    "    key_prefix=os.path.join(prefix, SCRIPT_LOCATION, timestamp),\n",
    ")\n",
    "train_code_s3_path"
   ]
  },
  {
   "cell_type": "markdown",
   "id": "1e31ebd5",
   "metadata": {},
   "source": [
    "create_training_job API を使って学習ジョブを実行します。ジョブの完了を待たずレスポンスが返ってきます。ジョブの完了は S3 バケットへの model.tar.gz の PutObject イベントで把握できます。ジョブ実行時に設定可能なパラメタについては [こちらのドキュメント](https://boto3.amazonaws.com/v1/documentation/api/latest/reference/services/sagemaker.html#SageMaker.Client.create_training_job) を参照してください。"
   ]
  },
  {
   "cell_type": "code",
   "execution_count": 11,
   "id": "8618b792",
   "metadata": {},
   "outputs": [
    {
     "data": {
      "text/plain": [
       "{'TrainingJobArn': 'arn:aws:sagemaker:us-east-1:420964472730:training-job/sklearn-byo-script-demo2-20220805-103011',\n",
       " 'ResponseMetadata': {'RequestId': 'c8d55175-6f59-4596-94a9-dc5264da4c90',\n",
       "  'HTTPStatusCode': 200,\n",
       "  'HTTPHeaders': {'x-amzn-requestid': 'c8d55175-6f59-4596-94a9-dc5264da4c90',\n",
       "   'content-type': 'application/x-amz-json-1.1',\n",
       "   'content-length': '115',\n",
       "   'date': 'Fri, 05 Aug 2022 01:30:11 GMT'},\n",
       "  'RetryAttempts': 0}}"
      ]
     },
     "execution_count": 11,
     "metadata": {},
     "output_type": "execute_result"
    }
   ],
   "source": [
    "timestamp = datetime.now(JST).strftime('%Y%m%d-%H%M%S')\n",
    "training_job_name = project_name + '-' + user_name + '-' + timestamp\n",
    "output_location = f's3://{bucket}/{prefix}/train'\n",
    "\n",
    "create_training_params = {\n",
    "    \"AlgorithmSpecification\": {\"TrainingImage\": inference_repository_uri, \"TrainingInputMode\": \"File\"},\n",
    "    \"RoleArn\": role,\n",
    "    \"OutputDataConfig\": {\"S3OutputPath\": output_location},\n",
    "    \"ResourceConfig\": {\"InstanceCount\": 1, \"InstanceType\": \"ml.c4.xlarge\", \"VolumeSizeInGB\": 50},\n",
    "    \"TrainingJobName\": training_job_name,\n",
    "    \"HyperParameters\": {\n",
    "        'n_neighbors': \"2\",\n",
    "        'radius': \"0.4\",\n",
    "        'sagemaker_program' : \"train.py\",\n",
    "        'sagemaker_submit_directory': train_code_s3_path\n",
    "    },\n",
    "    \"StoppingCondition\": {\"MaxRuntimeInSeconds\": 60 * 60},\n",
    "    \"InputDataConfig\": [\n",
    "        {\n",
    "            \"ChannelName\": \"train\",\n",
    "            \"DataSource\": {\n",
    "                \"S3DataSource\": {\n",
    "                    \"S3DataType\": \"S3Prefix\",\n",
    "                    \"S3Uri\": inputs,\n",
    "                    \"S3DataDistributionType\": \"FullyReplicated\",\n",
    "                }\n",
    "            },\n",
    "            \"CompressionType\": \"None\",\n",
    "            \"RecordWrapperType\": \"None\",\n",
    "        }\n",
    "    ],\n",
    "}\n",
    "\n",
    "\n",
    "sagemaker_client = boto3.client(\"sagemaker\")\n",
    "\n",
    "sagemaker_client.create_training_job(**create_training_params)"
   ]
  },
  {
   "cell_type": "markdown",
   "id": "ac1f9bae",
   "metadata": {},
   "source": [
    "### バッチ推論\n",
    "\n",
    "create_processing_job API も create_training_job API と同様に実行後すぐにレスポンスが返ってきます。ジョブ実行時に設定可能なパラメタについては [こちらのドキュメント](https://boto3.amazonaws.com/v1/documentation/api/latest/reference/services/sagemaker.html#SageMaker.Client.create_processing_job) を参照してください。"
   ]
  },
  {
   "cell_type": "code",
   "execution_count": 13,
   "id": "a47b8503",
   "metadata": {},
   "outputs": [],
   "source": [
    "timestamp = datetime.now(JST).strftime('%Y%m%d-%H%M%S')\n",
    "\n",
    "inference_job_name = project_name + '-' + user_name + '-' + timestamp\n",
    "inference_input_data = inputs\n",
    "inference_model = f'{output_location}/{training_job_name}/output/model.tar.gz'\n",
    "inference_output_data = f's3://{bucket}/{prefix}/inference/{inference_job_name}'\n",
    "\n",
    "sagemaker_client.create_processing_job(\n",
    "    ProcessingInputs=[\n",
    "        {\n",
    "            'InputName': 'code',\n",
    "            'S3Input': {\n",
    "                'S3Uri': code_s3_path,\n",
    "                'LocalPath': code_path,\n",
    "                'S3DataType': 'S3Prefix',\n",
    "                'S3InputMode': 'File',\n",
    "            },\n",
    "        },\n",
    "        {\n",
    "            'InputName': 'data',\n",
    "            'S3Input': {\n",
    "                'S3Uri': inference_input_data,\n",
    "                'LocalPath': input_dir,\n",
    "                'S3DataType': 'S3Prefix',\n",
    "                'S3InputMode': 'File'\n",
    "            },\n",
    "        },\n",
    "        {\n",
    "            'InputName': 'model',\n",
    "            'S3Input': {\n",
    "                'S3Uri': inference_model,\n",
    "                'LocalPath': model_dir,\n",
    "                'S3DataType': 'S3Prefix',\n",
    "                'S3InputMode': 'File'\n",
    "            },\n",
    "        },\n",
    "    ],\n",
    "    ProcessingOutputConfig={\n",
    "        'Outputs': [\n",
    "            {\n",
    "                'OutputName': 'result',\n",
    "                'S3Output': {\n",
    "                    'S3Uri': inference_output_data,\n",
    "                    'LocalPath': output_dir,\n",
    "                    'S3UploadMode': 'EndOfJob'\n",
    "                },\n",
    "            },\n",
    "        ]\n",
    "    },\n",
    "    ProcessingJobName=inference_job_name,\n",
    "    ProcessingResources={\n",
    "        'ClusterConfig': {\n",
    "            'InstanceCount': 1,\n",
    "            'InstanceType': 'ml.m5.xlarge',\n",
    "            'VolumeSizeInGB': 16,\n",
    "        }\n",
    "    },\n",
    "    AppSpecification={\n",
    "        'ImageUri': inference_repository_uri,\n",
    "        'ContainerEntrypoint': [\n",
    "            'python3',\n",
    "            f'{code_path}/inference.py',\n",
    "        ],\n",
    "        'ContainerArguments': [\n",
    "            '--n_neighbors', '2'\n",
    "        ]\n",
    "    },\n",
    "    RoleArn=role,\n",
    ")"
   ]
  },
  {
   "cell_type": "code",
   "execution_count": null,
   "id": "98afb9c0",
   "metadata": {},
   "outputs": [],
   "source": []
  }
 ],
 "metadata": {
  "anaconda-cloud": {},
  "instance_type": "ml.t3.medium",
  "kernelspec": {
   "display_name": "conda_python3",
   "language": "python",
   "name": "conda_python3"
  },
  "language_info": {
   "codemirror_mode": {
    "name": "ipython",
    "version": 3
   },
   "file_extension": ".py",
   "mimetype": "text/x-python",
   "name": "python",
   "nbconvert_exporter": "python",
   "pygments_lexer": "ipython3",
   "version": "3.8.12"
  },
  "notice": "Copyright 2017 Amazon.com, Inc. or its affiliates. All Rights Reserved.  Licensed under the Apache License, Version 2.0 (the \"License\"). You may not use this file except in compliance with the License. A copy of the License is located at http://aws.amazon.com/apache2.0/ or in the \"license\" file accompanying this file. This file is distributed on an \"AS IS\" BASIS, WITHOUT WARRANTIES OR CONDITIONS OF ANY KIND, either express or implied. See the License for the specific language governing permissions and limitations under the License."
 },
 "nbformat": 4,
 "nbformat_minor": 5
}
