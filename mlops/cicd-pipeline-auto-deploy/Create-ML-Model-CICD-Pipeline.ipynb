{
 "cells": [
  {
   "cell_type": "markdown",
   "id": "1cecf141",
   "metadata": {},
   "source": [
    "# AWS CodePipeline を使って ML CI/CD パイプラインを作成する\n",
    "\n",
    "このノートブックは、AWS CodePipeline を使って以下のような CI/CD パイプラインを作ります。\n",
    "\n",
    "- AWS CodeCommit へのファイル push でパイプラインを実行開始\n",
    "- AWS Step Functions で作成した、データ準備、モデル学習、モデル評価のパイプラインを実行\n",
    "- モデル評価結果が良ければモデルを Amazon SageMaker 推論エンドポイントにデプロイ\n",
    "\n",
    "**このノートブックでは緩めの権限を持つ IAM Polycy と IAM Role を使用していますが、本番環境では最小限の権限を持つ Policy, Role を作成・使用してください。[IAM Access Analyzer](https://docs.aws.amazon.com/ja_jp/IAM/latest/UserGuide/access-analyzer-policy-generation.html) は、必要な権限のみを持つ Role の作成をサポートします。**\n",
    "\n",
    "<img src='architecture.png'>\n",
    "\n",
    "## このサンプルの前提条件\n",
    "Amazon SageMaker ノートブックインスタンスでの動作確認済みです。ノートブックインスタン作成時に、IAM ロールを新規作成している想定です。\n",
    "\n",
    "## このサンプルのファイル構成\n",
    "\n",
    "```\n",
    "root\n",
    "|- docker: 後処理 Lambda 用ファイル一式\n",
    "|- git-repo-codes: CodeCommit に push するファイル一式。CodeBuild で使用\n",
    "|- Create-ML-Model-CICD-Pipeline.ipynb: このノートブック。上記アーキテクチャを作成する\n",
    "|- Dockerfile: ベースコンテナイメージ作成用\n",
    "```"
   ]
  },
  {
   "cell_type": "markdown",
   "id": "7dc5dc65",
   "metadata": {
    "toc": true
   },
   "source": [
    "<h1>Table of Contents<span class=\"tocSkip\"></span></h1>\n",
    "<div class=\"toc\"><ul class=\"toc-item\"><li><span><a href=\"#AWS-CodePipeline-を使って-ML-CI/CD-パイプラインを作成する\" data-toc-modified-id=\"AWS-CodePipeline-を使って-ML-CI/CD-パイプラインを作成する-1\"><span class=\"toc-item-num\">1&nbsp;&nbsp;</span>AWS CodePipeline を使って ML CI/CD パイプラインを作成する</a></span><ul class=\"toc-item\"><li><span><a href=\"#このサンプルの前提条件\" data-toc-modified-id=\"このサンプルの前提条件-1.1\"><span class=\"toc-item-num\">1.1&nbsp;&nbsp;</span>このサンプルの前提条件</a></span></li><li><span><a href=\"#このサンプルのファイル構成\" data-toc-modified-id=\"このサンプルのファイル構成-1.2\"><span class=\"toc-item-num\">1.2&nbsp;&nbsp;</span>このサンプルのファイル構成</a></span></li><li><span><a href=\"#環境のセットアップ\" data-toc-modified-id=\"環境のセットアップ-1.3\"><span class=\"toc-item-num\">1.3&nbsp;&nbsp;</span>環境のセットアップ</a></span><ul class=\"toc-item\"><li><span><a href=\"#ノートブックインスタンスの-IAM-ロールに権限を追加\" data-toc-modified-id=\"ノートブックインスタンスの-IAM-ロールに権限を追加-1.3.1\"><span class=\"toc-item-num\">1.3.1&nbsp;&nbsp;</span>ノートブックインスタンスの IAM ロールに権限を追加</a></span></li><li><span><a href=\"#必要なモジュールのインポート\" data-toc-modified-id=\"必要なモジュールのインポート-1.3.2\"><span class=\"toc-item-num\">1.3.2&nbsp;&nbsp;</span>必要なモジュールのインポート</a></span></li></ul></li><li><span><a href=\"#Setup\" data-toc-modified-id=\"Setup-1.4\"><span class=\"toc-item-num\">1.4&nbsp;&nbsp;</span>Setup</a></span><ul class=\"toc-item\"><li><span><a href=\"#Amazon-SageMaker-Experiments-の作成\" data-toc-modified-id=\"Amazon-SageMaker-Experiments-の作成-1.4.1\"><span class=\"toc-item-num\">1.4.1&nbsp;&nbsp;</span>Amazon SageMaker Experiments の作成</a></span></li><li><span><a href=\"#Amazon-SageMaker-Model-Package-Group-の作成（Model-Registry-利用準備）\" data-toc-modified-id=\"Amazon-SageMaker-Model-Package-Group-の作成（Model-Registry-利用準備）-1.4.2\"><span class=\"toc-item-num\">1.4.2&nbsp;&nbsp;</span>Amazon SageMaker Model Package Group の作成（Model Registry 利用準備）</a></span></li><li><span><a href=\"#サンプルデータを自分の-S3-バケットにコピー\" data-toc-modified-id=\"サンプルデータを自分の-S3-バケットにコピー-1.4.3\"><span class=\"toc-item-num\">1.4.3&nbsp;&nbsp;</span>サンプルデータを自分の S3 バケットにコピー</a></span></li><li><span><a href=\"#ベースイメージを-Amazon-ECR-に-push\" data-toc-modified-id=\"ベースイメージを-Amazon-ECR-に-push-1.4.4\"><span class=\"toc-item-num\">1.4.4&nbsp;&nbsp;</span>ベースイメージを Amazon ECR に push</a></span></li><li><span><a href=\"#ML-パイプラインで使用する-Lambda-関数の作成\" data-toc-modified-id=\"ML-パイプラインで使用する-Lambda-関数の作成-1.4.5\"><span class=\"toc-item-num\">1.4.5&nbsp;&nbsp;</span>ML パイプラインで使用する Lambda 関数の作成</a></span></li></ul></li><li><span><a href=\"#AWS-CodeCommit-リポジトリの作成\" data-toc-modified-id=\"AWS-CodeCommit-リポジトリの作成-1.5\"><span class=\"toc-item-num\">1.5&nbsp;&nbsp;</span>AWS CodeCommit リポジトリの作成</a></span><ul class=\"toc-item\"><li><span><a href=\"#create_repository()-API-でリポジトリを作成\" data-toc-modified-id=\"create_repository()-API-でリポジトリを作成-1.5.1\"><span class=\"toc-item-num\">1.5.1&nbsp;&nbsp;</span>create_repository() API でリポジトリを作成</a></span></li></ul></li><li><span><a href=\"#AWS-CodeBuild-プロジェクトの作成\" data-toc-modified-id=\"AWS-CodeBuild-プロジェクトの作成-1.6\"><span class=\"toc-item-num\">1.6&nbsp;&nbsp;</span>AWS CodeBuild プロジェクトの作成</a></span><ul class=\"toc-item\"><li><span><a href=\"#Build-Stage-で使用する-IAM-Policy-と-Role-の作成\" data-toc-modified-id=\"Build-Stage-で使用する-IAM-Policy-と-Role-の作成-1.6.1\"><span class=\"toc-item-num\">1.6.1&nbsp;&nbsp;</span>Build Stage で使用する IAM Policy と Role の作成</a></span></li><li><span><a href=\"#create_project()-API-で-Build-Stage-用プロジェクトを作成\" data-toc-modified-id=\"create_project()-API-で-Build-Stage-用プロジェクトを作成-1.6.2\"><span class=\"toc-item-num\">1.6.2&nbsp;&nbsp;</span>create_project() API で Build Stage 用プロジェクトを作成</a></span></li><li><span><a href=\"#AWS-Step-Functions-用-IAM-Policy-と-Role-の作成\" data-toc-modified-id=\"AWS-Step-Functions-用-IAM-Policy-と-Role-の作成-1.6.3\"><span class=\"toc-item-num\">1.6.3&nbsp;&nbsp;</span>AWS Step Functions 用 IAM Policy と Role の作成</a></span></li><li><span><a href=\"#ML-パイプライン設定ファイルの作成\" data-toc-modified-id=\"ML-パイプライン設定ファイルの作成-1.6.4\"><span class=\"toc-item-num\">1.6.4&nbsp;&nbsp;</span>ML パイプライン設定ファイルの作成</a></span></li><li><span><a href=\"#データ準備用のコンテナイメージ用-Dockerfile-の作成\" data-toc-modified-id=\"データ準備用のコンテナイメージ用-Dockerfile-の作成-1.6.5\"><span class=\"toc-item-num\">1.6.5&nbsp;&nbsp;</span>データ準備用のコンテナイメージ用 Dockerfile の作成</a></span></li><li><span><a href=\"#モデル学習用のコンテナイメージ用-Dockerfile-の作成\" data-toc-modified-id=\"モデル学習用のコンテナイメージ用-Dockerfile-の作成-1.6.6\"><span class=\"toc-item-num\">1.6.6&nbsp;&nbsp;</span>モデル学習用のコンテナイメージ用 Dockerfile の作成</a></span></li><li><span><a href=\"#モデル評価用のコンテナイメージ用-Dockerfile-の作成\" data-toc-modified-id=\"モデル評価用のコンテナイメージ用-Dockerfile-の作成-1.6.7\"><span class=\"toc-item-num\">1.6.7&nbsp;&nbsp;</span>モデル評価用のコンテナイメージ用 Dockerfile の作成</a></span></li><li><span><a href=\"#モデルデプロイ用のコンテナイメージ用-Dockerfile-の作成\" data-toc-modified-id=\"モデルデプロイ用のコンテナイメージ用-Dockerfile-の作成-1.6.8\"><span class=\"toc-item-num\">1.6.8&nbsp;&nbsp;</span>モデルデプロイ用のコンテナイメージ用 Dockerfile の作成</a></span></li><li><span><a href=\"#作成した-CodeBuild-用のファイルを-CodeCommit-に-push\" data-toc-modified-id=\"作成した-CodeBuild-用のファイルを-CodeCommit-に-push-1.6.9\"><span class=\"toc-item-num\">1.6.9&nbsp;&nbsp;</span>作成した CodeBuild 用のファイルを CodeCommit に push</a></span></li></ul></li><li><span><a href=\"#CodePipeline-のパイプライン作成\" data-toc-modified-id=\"CodePipeline-のパイプライン作成-1.7\"><span class=\"toc-item-num\">1.7&nbsp;&nbsp;</span>CodePipeline のパイプライン作成</a></span><ul class=\"toc-item\"><li><span><a href=\"#CodePipeline-で使用する-IAM-Policy-と-Role-を作成\" data-toc-modified-id=\"CodePipeline-で使用する-IAM-Policy-と-Role-を作成-1.7.1\"><span class=\"toc-item-num\">1.7.1&nbsp;&nbsp;</span>CodePipeline で使用する IAM Policy と Role を作成</a></span></li><li><span><a href=\"#create_pipeline()-API-でパイプラインを作成\" data-toc-modified-id=\"create_pipeline()-API-でパイプラインを作成-1.7.2\"><span class=\"toc-item-num\">1.7.2&nbsp;&nbsp;</span>create_pipeline() API でパイプラインを作成</a></span></li></ul></li><li><span><a href=\"#記録された各種データの確認\" data-toc-modified-id=\"記録された各種データの確認-1.8\"><span class=\"toc-item-num\">1.8&nbsp;&nbsp;</span>記録された各種データの確認</a></span><ul class=\"toc-item\"><li><span><a href=\"#Amazon-Experiments-の中を確認\" data-toc-modified-id=\"Amazon-Experiments-の中を確認-1.8.1\"><span class=\"toc-item-num\">1.8.1&nbsp;&nbsp;</span>Amazon Experiments の中を確認</a></span></li><li><span><a href=\"#Model-Registry-の中を確認\" data-toc-modified-id=\"Model-Registry-の中を確認-1.8.2\"><span class=\"toc-item-num\">1.8.2&nbsp;&nbsp;</span>Model Registry の中を確認</a></span></li></ul></li><li><span><a href=\"#推論エンドポイントの動作確認\" data-toc-modified-id=\"推論エンドポイントの動作確認-1.9\"><span class=\"toc-item-num\">1.9&nbsp;&nbsp;</span>推論エンドポイントの動作確認</a></span></li><li><span><a href=\"#[おまけ]-Model-Registry-のモデルパッケージをデプロイ\" data-toc-modified-id=\"[おまけ]-Model-Registry-のモデルパッケージをデプロイ-1.10\"><span class=\"toc-item-num\">1.10&nbsp;&nbsp;</span>[おまけ] Model Registry のモデルパッケージをデプロイ</a></span></li><li><span><a href=\"#リソースの削除\" data-toc-modified-id=\"リソースの削除-1.11\"><span class=\"toc-item-num\">1.11&nbsp;&nbsp;</span>リソースの削除</a></span><ul class=\"toc-item\"><li><span><a href=\"#Amazon-SageMaker-推論エンドポイントの削除\" data-toc-modified-id=\"Amazon-SageMaker-推論エンドポイントの削除-1.11.1\"><span class=\"toc-item-num\">1.11.1&nbsp;&nbsp;</span>Amazon SageMaker 推論エンドポイントの削除</a></span></li><li><span><a href=\"#CodeCommit,-CodeBuild,-CodePipeline-の削除\" data-toc-modified-id=\"CodeCommit,-CodeBuild,-CodePipeline-の削除-1.11.2\"><span class=\"toc-item-num\">1.11.2&nbsp;&nbsp;</span>CodeCommit, CodeBuild, CodePipeline の削除</a></span></li><li><span><a href=\"#Amazon-ECR-リポジトリの削除\" data-toc-modified-id=\"Amazon-ECR-リポジトリの削除-1.11.3\"><span class=\"toc-item-num\">1.11.3&nbsp;&nbsp;</span>Amazon ECR リポジトリの削除</a></span></li><li><span><a href=\"#Lambda-関数の削除\" data-toc-modified-id=\"Lambda-関数の削除-1.11.4\"><span class=\"toc-item-num\">1.11.4&nbsp;&nbsp;</span>Lambda 関数の削除</a></span></li><li><span><a href=\"#Experiment-の削除\" data-toc-modified-id=\"Experiment-の削除-1.11.5\"><span class=\"toc-item-num\">1.11.5&nbsp;&nbsp;</span>Experiment の削除</a></span></li><li><span><a href=\"#Amazon-SageMaker-Model-Registry-の削除\" data-toc-modified-id=\"Amazon-SageMaker-Model-Registry-の削除-1.11.6\"><span class=\"toc-item-num\">1.11.6&nbsp;&nbsp;</span>Amazon SageMaker Model Registry の削除</a></span></li><li><span><a href=\"#AWS-Step-Functions-ワークフローの削除\" data-toc-modified-id=\"AWS-Step-Functions-ワークフローの削除-1.11.7\"><span class=\"toc-item-num\">1.11.7&nbsp;&nbsp;</span>AWS Step Functions ワークフローの削除</a></span></li><li><span><a href=\"#Amazon-S3-バケットの削除\" data-toc-modified-id=\"Amazon-S3-バケットの削除-1.11.8\"><span class=\"toc-item-num\">1.11.8&nbsp;&nbsp;</span>Amazon S3 バケットの削除</a></span></li><li><span><a href=\"#IAM-Role-と-Policy-の削除\" data-toc-modified-id=\"IAM-Role-と-Policy-の削除-1.11.9\"><span class=\"toc-item-num\">1.11.9&nbsp;&nbsp;</span>IAM Role と Policy の削除</a></span></li></ul></li><li><span><a href=\"#[Option]-CI/CD-パイプラインの定期実行\" data-toc-modified-id=\"[Option]-CI/CD-パイプラインの定期実行-1.12\"><span class=\"toc-item-num\">1.12&nbsp;&nbsp;</span>[Option] CI/CD パイプラインの定期実行</a></span><ul class=\"toc-item\"><li><span><a href=\"#flow.yml-更新用-Lambda-関数の作成\" data-toc-modified-id=\"flow.yml-更新用-Lambda-関数の作成-1.12.1\"><span class=\"toc-item-num\">1.12.1&nbsp;&nbsp;</span>flow.yml 更新用 Lambda 関数の作成</a></span></li><li><span><a href=\"#定期実行のための-Amazon-EventBridge-Rule-作成\" data-toc-modified-id=\"定期実行のための-Amazon-EventBridge-Rule-作成-1.12.2\"><span class=\"toc-item-num\">1.12.2&nbsp;&nbsp;</span>定期実行のための Amazon EventBridge Rule 作成</a></span></li><li><span><a href=\"#リソースの削除\" data-toc-modified-id=\"リソースの削除-1.12.3\"><span class=\"toc-item-num\">1.12.3&nbsp;&nbsp;</span>リソースの削除</a></span></li></ul></li></ul></li></ul></div>"
   ]
  },
  {
   "cell_type": "markdown",
   "id": "ceb06b5e",
   "metadata": {},
   "source": [
    "## 環境のセットアップ\n",
    "\n",
    "このノートブックを実行するのに必要なライブラリをインストールします。"
   ]
  },
  {
   "cell_type": "code",
   "execution_count": null,
   "id": "423931e0",
   "metadata": {
    "scrolled": true
   },
   "outputs": [],
   "source": [
    "# Import the latest sagemaker, stepfunctions and boto3 SDKs\n",
    "import sys\n",
    "\n",
    "!{sys.executable} -m pip install --upgrade pip\n",
    "!{sys.executable} -m pip install -qU awscli boto3 \"sagemaker>=2.0.0\"\n",
    "!{sys.executable} -m pip install -qU \"stepfunctions==2.3.0\"\n",
    "!{sys.executable} -m pip install sagemaker-experiments\n",
    "!{sys.executable} -m pip show sagemaker"
   ]
  },
  {
   "cell_type": "markdown",
   "id": "7403dd7a",
   "metadata": {},
   "source": [
    "このサンプルノートブックは長いので、実行したいセルにアクセスしやすいよう Table of Contents を作成する拡張機能をインストールすると便利です。以下のセルを実行したあと、このノートブックを開いているブラウザのタブをリロードすると Table of Contents の拡張機能が使えるようになります。"
   ]
  },
  {
   "cell_type": "code",
   "execution_count": null,
   "id": "2214256e",
   "metadata": {},
   "outputs": [],
   "source": [
    "%%sh\n",
    "pip install jupyter_contrib_nbextensions\n",
    "jupyter contrib nbextension install --user\n",
    "jupyter nbextension enable toc2/main"
   ]
  },
  {
   "cell_type": "markdown",
   "id": "834b66ae",
   "metadata": {},
   "source": [
    "### ノートブックインスタンスの IAM ロールに権限を追加\n",
    "\n",
    "以下のセルの `user_name` をご自身のお名前に書き換えてからセルを実行し、表示された手順を実行してください。\n",
    "\n",
    "\n",
    "もしこのノートブックを SageMaker のノートブックインスタンス以外で実行している場合、その環境で AWS CLI 設定を行ってください。詳細は [Configuring the AWS CLI](https://docs.aws.amazon.com/cli/latest/userguide/cli-chap-configure.html) をご参照ください。"
   ]
  },
  {
   "cell_type": "code",
   "execution_count": null,
   "id": "8b87013c",
   "metadata": {},
   "outputs": [],
   "source": [
    "import sagemaker\n",
    "\n",
    "project_name = 'mlops-autodeploy-pipeline'\n",
    "user_name = 'sample'\n",
    "sagemaker_policy_name = project_name + '-' + user_name + '-policy'\n",
    "\n",
    "sagemaker_session = sagemaker.Session()\n",
    "region = sagemaker_session.boto_region_name\n",
    "\n",
    "from IPython.display import display, Markdown\n",
    "text = f\"\"\"\n",
    "＜手順＞\n",
    "1. <a href=\\\"policy/sagemaker-policy.json\\\" target=\\\"_blank\\\">policy/sagemaker-policy.json</a> の中身をコピー\n",
    "1. <a href=\\\"https://{region}.console.aws.amazon.com/iam/home#/policies$new?step=edit\\\" target=\\\"_blank\\\">IAM Policy の作成</a>をクリックして **JSON** タブをクリックしてコピーした JSON をペーストして右下の **次のステップ：タグ** ボタンをクリック\n",
    "1. 右下の **次のステップ：確認** ボタンをクリック\n",
    "1. **名前** に **{sagemaker_policy_name}** を記載して、右下の **ポリシーの作成** ボタンをクリック\n",
    "1.  <a href=\\\"https://us-east-1.console.aws.amazon.com/sagemaker/home?region={region}#/notebook-instances\\\" target=\\\"_blank\\\">ノートブックインスタンス一覧</a> を開いてこのノートブックを実行しているノートブックをクリック\n",
    "1. **アクセス許可と暗号化** の部分に表示されている IAM ロールへのリンクをクリック\n",
    "1. **アクセス許可を追加** をクリックして **ポリシーをアタッチ** を選択\n",
    "1. **その他の許可ポリシー** の検索ボックスで手順4 で作成した {sagemaker_policy_name} を検索して横にあるチェックボックスをオンにする\n",
    "1. **ポリシーのアタッチ** をクリック\n",
    "\"\"\"\n",
    "display(Markdown(text))"
   ]
  },
  {
   "cell_type": "markdown",
   "id": "bdb5e874",
   "metadata": {},
   "source": [
    "### 必要なモジュールのインポート"
   ]
  },
  {
   "cell_type": "code",
   "execution_count": null,
   "id": "deaaaaf1",
   "metadata": {},
   "outputs": [],
   "source": [
    "import boto3\n",
    "from datetime import datetime\n",
    "from dateutil import tz\n",
    "import json\n",
    "import os\n",
    "from sagemaker.analytics import ExperimentAnalytics\n",
    "from smexperiments.experiment import Experiment\n",
    "from smexperiments.trial import Trial\n",
    "from smexperiments.trial_component import TrialComponent\n",
    "from stepfunctions.workflow import Workflow\n",
    "from time import sleep\n",
    "\n",
    "JST = tz.gettz('Asia/Tokyo')\n",
    "timestamp = datetime.now(JST).strftime('%Y%m%d-%H%M%S')\n",
    "\n",
    "role = sagemaker.get_execution_role()\n",
    "account_id = boto3.client('sts').get_caller_identity().get('Account')\n",
    "\n",
    "codecommit_client = boto3.client('codecommit', region_name=region)\n",
    "codebuild_client = boto3.client('codebuild', region_name=region)\n",
    "codepipeline_client = boto3.client('codepipeline', region_name=region)\n",
    "iam_client = boto3.client('iam', region_name=region)\n",
    "s3_client = boto3.client('s3', region_name=region)\n",
    "lambda_client = boto3.client('lambda', region_name=region)\n",
    "ecr_client = boto3.client('ecr', region_name=region)\n",
    "sagemaker_client = boto3.client('sagemaker', region_name=region)"
   ]
  },
  {
   "cell_type": "markdown",
   "id": "13108707",
   "metadata": {},
   "source": [
    "以下のセルを実行して、各種リソース名を作成します。"
   ]
  },
  {
   "cell_type": "code",
   "execution_count": null,
   "id": "a0d6d785",
   "metadata": {},
   "outputs": [],
   "source": [
    "bucket_name = project_name + '-' + user_name + '-' + timestamp\n",
    "code_repository_name = project_name + '-code-' + user_name\n",
    "codebuild_project_name = project_name + '-codebuild-' + user_name\n",
    "codebuild_deploy_project_name = project_name + '-codebuild-deploy-' + user_name\n",
    "codepipeline_name = project_name + '-codepipeline-' + user_name\n",
    "mlworkflow_name = project_name + '-flow-' + user_name\n",
    "experiment_name = project_name + '-exp-' + user_name\n",
    "model_package_group_name = project_name + '-mpg-' + user_name\n",
    "deploy_model_lambda_name =  project_name + '-deploy-model-' + user_name\n",
    "endpoint_name = project_name +'-' + user_name\n",
    "role_name_list = []\n",
    "policy_arn_list = []\n",
    "lambda_function_list = []"
   ]
  },
  {
   "cell_type": "markdown",
   "id": "ab5d3856",
   "metadata": {},
   "source": [
    "IAM 関連の関数を作成します。"
   ]
  },
  {
   "cell_type": "code",
   "execution_count": null,
   "id": "feff7acb",
   "metadata": {},
   "outputs": [],
   "source": [
    "def get_policy_arn(policy_name):\n",
    "    next_token = ''\n",
    "    while True:\n",
    "        if next_token == '':\n",
    "            response = iam_client.list_policies(Scope='Local')\n",
    "        else:\n",
    "            response = iam_client.list_policies(Scope='Local', Marker=next_token)\n",
    "        for content in response['Policies']:\n",
    "            if policy_name == content['PolicyName']:\n",
    "                return content['Arn']\n",
    "        if 'Marker' in response:\n",
    "            next_token = response['Marker']\n",
    "        else:\n",
    "            break\n",
    "\n",
    "    return ''\n",
    "\n",
    "\n",
    "def get_role_arn(role_name):\n",
    "    next_token = ''\n",
    "    while True:\n",
    "        if next_token == '':\n",
    "            response = iam_client.list_roles()\n",
    "        else:\n",
    "            response = iam_client.list_roles(Marker=next_token)\n",
    "        for content in response['Roles']:\n",
    "            if role_name == content['RoleName']:\n",
    "                return content['Arn']\n",
    "        if 'Marker' in response:\n",
    "            next_token = response['Marker']\n",
    "        else:\n",
    "            break\n",
    "\n",
    "    return ''\n",
    "\n",
    "\n",
    "def create_role(role_name, assume_role_policy):\n",
    "    try:\n",
    "        response = iam_client.create_role(\n",
    "            Path = '/service-role/',\n",
    "            RoleName = role_name,\n",
    "            AssumeRolePolicyDocument = json.dumps(assume_role_policy),\n",
    "            MaxSessionDuration=3600*12 # 12 hours\n",
    "        )\n",
    "        role_arn = response['Role']['Arn']\n",
    "    except Exception as ex:\n",
    "        if \"EntityAlreadyExists\" in str(ex):\n",
    "            detach_role_policies(role_name)\n",
    "            response = iam_client.delete_role(\n",
    "                RoleName = role_name,\n",
    "            )\n",
    "            response = iam_client.create_role(\n",
    "                Path = '/service-role/',\n",
    "                RoleName = role_name,\n",
    "                AssumeRolePolicyDocument = json.dumps(assume_role_policy),\n",
    "                MaxSessionDuration=3600*12 # 12 hours\n",
    "            )\n",
    "            role_arn = response['Role']['Arn']\n",
    "    sleep(10)\n",
    "    return role_arn\n",
    "\n",
    "\n",
    "def create_policy(policy_name, policy_json_name):\n",
    "    with open('policy/' + policy_json_name, 'r') as f:\n",
    "        policy_json = json.load(f)\n",
    "    try:\n",
    "        response = iam_client.create_policy(\n",
    "            PolicyName=policy_name,\n",
    "            PolicyDocument=json.dumps(policy_json),\n",
    "        )\n",
    "        policy_arn = response['Policy']['Arn']\n",
    "    except Exception as ex:\n",
    "        if \"EntityAlreadyExists\" in str(ex):\n",
    "            response = iam_client.delete_policy(\n",
    "                PolicyArn=get_policy_arn(policy_name)\n",
    "            )\n",
    "            response = iam_client.create_policy(\n",
    "                PolicyName=policy_name,\n",
    "                PolicyDocument=json.dumps(policy_json),\n",
    "            )\n",
    "            policy_arn = response['Policy']['Arn']\n",
    "        print(ex)\n",
    "    policy_arn_list.append(policy_arn)\n",
    "    \n",
    "    sleep(10)\n",
    "    return policy_arn\n",
    "\n",
    "\n",
    "def create_policy_role(policy_name, policy_json_name, role_name, assume_role_policy):\n",
    "\n",
    "    role_arn = create_role(role_name, assume_role_policy)\n",
    "    policy_arn = create_policy(policy_name, policy_json_name)\n",
    "\n",
    "    sleep(5)\n",
    "    response = iam_client.attach_role_policy(\n",
    "        RoleName=role_name,\n",
    "        PolicyArn=policy_arn\n",
    "    )\n",
    "\n",
    "    role_name_list.append(role_name)\n",
    "    policy_arn_list.append(policy_arn)\n",
    "    sleep(10)"
   ]
  },
  {
   "cell_type": "markdown",
   "id": "5819f069",
   "metadata": {},
   "source": [
    "以下のセルを実行して、このサンプルでファイルの保存に使用するバケットを新規作成し、暗号化とパブリックアクセスの禁止を設定します。"
   ]
  },
  {
   "cell_type": "code",
   "execution_count": null,
   "id": "127bc8b9",
   "metadata": {},
   "outputs": [],
   "source": [
    "if region == 'us-east-1':\n",
    "    response = s3_client.create_bucket(Bucket=bucket_name)\n",
    "else:\n",
    "    location = {'LocationConstraint': region}\n",
    "    response = s3_client.create_bucket(Bucket=bucket_name,\n",
    "                                       CreateBucketConfiguration=location)\n",
    "sleep(10)\n",
    "response = s3_client.put_bucket_encryption(\n",
    "    Bucket=bucket_name,\n",
    "    ServerSideEncryptionConfiguration={\n",
    "        'Rules': [\n",
    "            {\n",
    "                'ApplyServerSideEncryptionByDefault': {\n",
    "                    'SSEAlgorithm': 'AES256',\n",
    "                },\n",
    "            },\n",
    "        ]\n",
    "    },\n",
    ")\n",
    "\n",
    "response = s3_client.put_public_access_block(\n",
    "    Bucket=bucket_name,\n",
    "    PublicAccessBlockConfiguration={\n",
    "        'BlockPublicAcls': True,\n",
    "        'IgnorePublicAcls': True,\n",
    "        'BlockPublicPolicy': True,\n",
    "        'RestrictPublicBuckets': True\n",
    "    },\n",
    "    ExpectedBucketOwner=account_id\n",
    ")"
   ]
  },
  {
   "cell_type": "markdown",
   "id": "5e2240f1",
   "metadata": {},
   "source": [
    "## Setup\n",
    "### Amazon SageMaker Experiments の作成"
   ]
  },
  {
   "cell_type": "code",
   "execution_count": null,
   "id": "e3714648",
   "metadata": {},
   "outputs": [],
   "source": [
    "# create the experiment if it doesn't exist\n",
    "try:\n",
    "    experiment_evaluate = Experiment.load(experiment_name=experiment_name)\n",
    "except Exception as ex:\n",
    "    if \"ResourceNotFound\" in str(ex):\n",
    "        experiment_evaluate = Experiment.create(\n",
    "            experiment_name=experiment_name, \n",
    "            description=\"model evaluation\", \n",
    "            sagemaker_boto_client=boto3.client('sagemaker'))\n",
    "    else:\n",
    "        print(ex)\n",
    "\n",
    "print(experiment_evaluate.experiment_name)"
   ]
  },
  {
   "cell_type": "markdown",
   "id": "32925121",
   "metadata": {},
   "source": [
    "### Amazon SageMaker Model Package Group の作成（Model Registry 利用準備）"
   ]
  },
  {
   "cell_type": "code",
   "execution_count": null,
   "id": "4c73a520",
   "metadata": {},
   "outputs": [],
   "source": [
    "model_package_group_input_dict = {\n",
    "    \"ModelPackageGroupName\": model_package_group_name,\n",
    "    \"ModelPackageGroupDescription\": \"This is MLOps demo\",\n",
    "}\n",
    "\n",
    "try:\n",
    "    create_model_pacakge_group_response = sagemaker_client.create_model_package_group(\n",
    "        **model_package_group_input_dict\n",
    "    )\n",
    "    model_package_group_arn = create_model_pacakge_group_response[\"ModelPackageGroupArn\"]\n",
    "except Exception as e:\n",
    "    model_package_group_arn = f'arn:aws:sagemaker:{region}:{account_id}:model-package-group/{model_package_group_name}'\n",
    "print(f\"ModelPackageGroup Arn : {model_package_group_arn}\")"
   ]
  },
  {
   "cell_type": "markdown",
   "id": "12cac1cc",
   "metadata": {},
   "source": [
    "### サンプルデータを自分の S3 バケットにコピー"
   ]
  },
  {
   "cell_type": "code",
   "execution_count": null,
   "id": "05ed2cea",
   "metadata": {},
   "outputs": [],
   "source": [
    "mnist_data_s3_path = f's3://{bucket_name}/mnist/'\n",
    "!aws s3 cp s3://fast-ai-imageclas/mnist_png.tgz $mnist_data_s3_path"
   ]
  },
  {
   "cell_type": "markdown",
   "id": "fc0b9fe3",
   "metadata": {},
   "source": [
    "### ベースイメージを Amazon ECR に push\n",
    "\n",
    "試行錯誤の中で何度もコンテナイメージのビルドを繰り返していると、Docker Hub からベースイメージを pull できなくなることがあります。そこで、はじめにベースイメージをビルドして Amazon ECR に push しておき、そちらを今後ベースイメージとして使用します。"
   ]
  },
  {
   "cell_type": "code",
   "execution_count": null,
   "id": "40994c50",
   "metadata": {},
   "outputs": [],
   "source": [
    "def build_and_push_image(repo_name, docker_path, extra_accounts=[], tag = ':latest'):\n",
    "    uri_suffix = 'amazonaws.com'\n",
    "    repository_uri = '{}.dkr.ecr.{}.{}/{}'.format(account_id, region, uri_suffix, repo_name + tag)\n",
    "\n",
    "    !docker build -t $repo_name $docker_path\n",
    "    for a in extra_accounts:\n",
    "        !aws ecr get-login-password --region {region} | docker login --username AWS --password-stdin {a}.dkr.ecr.{region}.amazonaws.com\n",
    "    !aws ecr get-login-password --region {region} | docker login --username AWS --password-stdin {account_id}.dkr.ecr.{region}.amazonaws.com\n",
    "    !aws ecr create-repository --repository-name $repo_name\n",
    "    !docker tag {repo_name + tag} $repository_uri\n",
    "    !docker push $repository_uri\n",
    "    return repository_uri"
   ]
  },
  {
   "cell_type": "code",
   "execution_count": null,
   "id": "2831f697",
   "metadata": {},
   "outputs": [],
   "source": [
    "base_repository_uri = build_and_push_image(project_name + '-base-' + user_name, '.')"
   ]
  },
  {
   "cell_type": "markdown",
   "id": "a0f80413",
   "metadata": {},
   "source": [
    "### ML パイプラインで使用する Lambda 関数の作成\n",
    "\n",
    "ここでは、Step Functions ワークフローの中で使用する、以下の 2つの Lambda 関数を作成します。\n",
    "\n",
    "- モデルの評価結果を次の Step に渡す<br>\n",
    "モデルの評価結果は evaluation.json というファイル名で Amazon S3 に保存されているので、それを読み込んで次の Step に伝えるための Lambda 関数を作成します。\n",
    "- 指定された名前のエンドポイントが存在するか調べる<br>\n",
    "指定した名前のエンドポイントが存在しない場合は CreateEndpoint API を呼び、存在する場合は UpdateEndpoint API を呼びます。"
   ]
  },
  {
   "cell_type": "code",
   "execution_count": null,
   "id": "1beda91c",
   "metadata": {},
   "outputs": [],
   "source": [
    "def create_container_lambda_function(function_name, image_uri, role_arn):\n",
    "\n",
    "    if function_exists(function_name):\n",
    "        response = lambda_client.delete_function(\n",
    "            FunctionName=function_name,\n",
    "        )\n",
    "        sleep(10)\n",
    "\n",
    "    response = lambda_client.create_function(\n",
    "        FunctionName=function_name,\n",
    "        Role=role_arn,\n",
    "        Code={\n",
    "            'ImageUri':image_uri\n",
    "        },\n",
    "        Timeout=60*5, # 5 minutes\n",
    "        MemorySize=128, # 128 MB\n",
    "        Publish=True,\n",
    "        PackageType='Image',\n",
    "    )\n",
    "    lambda_function_list.append(function_name)\n",
    "\n",
    "\n",
    "def detach_role_policies(role_name):\n",
    "    response = iam_client.list_attached_role_policies(\n",
    "        RoleName=role_name,\n",
    "    )\n",
    "    policies = response['AttachedPolicies']\n",
    "\n",
    "    for p in policies:\n",
    "        response = iam_client.detach_role_policy(\n",
    "            RoleName=role_name,\n",
    "            PolicyArn=p['PolicyArn']\n",
    "        )\n",
    "\n",
    "        \n",
    "def function_exists(function_name):\n",
    "    try:\n",
    "        lambda_client.get_function(\n",
    "            FunctionName=function_name,\n",
    "        )\n",
    "        return True\n",
    "    except Exception as e:\n",
    "        return False"
   ]
  },
  {
   "cell_type": "markdown",
   "id": "b48c2536",
   "metadata": {},
   "source": [
    "評価結果を次の Step に流す Lambda 関数、同じ名前のエンドポイントがあるかどうかを確認する"
   ]
  },
  {
   "cell_type": "code",
   "execution_count": null,
   "id": "8f3fd1de",
   "metadata": {},
   "outputs": [],
   "source": [
    "dockerfile_name = 'docker/model-deploy/Dockerfile'\n",
    "\n",
    "dockerfile_code = f\"\"\"FROM {base_repository_uri}\n",
    "\n",
    "# Include global arg in this stage of the build\n",
    "ARG FUNCTION_DIR=\"/function\"\n",
    "\n",
    "COPY requirements.txt .\n",
    "RUN pip3 install --upgrade pip\n",
    "RUN pip3 install -qU -r requirements.txt\n",
    "\n",
    "# Copy function code\n",
    "RUN mkdir -p $FUNCTION_DIR\n",
    "COPY app/ $FUNCTION_DIR/\n",
    "\n",
    "# Set working directory to function root directory\n",
    "WORKDIR $FUNCTION_DIR\n",
    "\n",
    "\n",
    "ENTRYPOINT [ \"/usr/local/bin/python\", \"-m\", \"awslambdaric\" ]\n",
    "CMD [ \"app.handler\" ]\n",
    "\"\"\"\n",
    "\n",
    "with open(dockerfile_name, 'w') as f:\n",
    "    f.write(dockerfile_code)"
   ]
  },
  {
   "cell_type": "code",
   "execution_count": null,
   "id": "06bec8dc",
   "metadata": {
    "scrolled": true
   },
   "outputs": [],
   "source": [
    "lambda_repository_uri = build_and_push_image(project_name + '-lambda-' + user_name, 'docker/model-deploy')"
   ]
  },
  {
   "cell_type": "code",
   "execution_count": null,
   "id": "f3a7ee86",
   "metadata": {},
   "outputs": [],
   "source": [
    "lambda_policy_name = deploy_model_lambda_name + '-policy'\n",
    "lambda_role_name = deploy_model_lambda_name + '-role'\n",
    "lambda_policy_json_name = 'lambda-policy.json'\n",
    "\n",
    "assume_role_policy = {\n",
    "  \"Version\": \"2012-10-17\",\n",
    "  \"Statement\": [{\"Sid\": \"\",\"Effect\": \"Allow\",\"Principal\": {\"Service\":\"lambda.amazonaws.com\"},\"Action\": \"sts:AssumeRole\"}]\n",
    "}\n",
    "\n",
    "create_policy_role(lambda_policy_name, lambda_policy_json_name,\n",
    "                   lambda_role_name, assume_role_policy)\n",
    "lambda_role_arn = iam_client.get_role(RoleName=lambda_role_name)['Role']['Arn']\n",
    "sleep(10) # wait until IAM is created\n",
    "create_container_lambda_function(deploy_model_lambda_name, lambda_repository_uri, lambda_role_arn)"
   ]
  },
  {
   "cell_type": "markdown",
   "id": "bb03b4c0",
   "metadata": {},
   "source": [
    "## AWS CodeCommit リポジトリの作成"
   ]
  },
  {
   "cell_type": "markdown",
   "id": "5e001830",
   "metadata": {},
   "source": [
    "### create_repository() API でリポジトリを作成\n",
    "\n",
    "API の詳細は[こちらのドキュメント](https://boto3.amazonaws.com/v1/documentation/api/latest/reference/services/codecommit.html#CodeCommit.Client.create_repository) をご参照ください。"
   ]
  },
  {
   "cell_type": "code",
   "execution_count": null,
   "id": "c35dd0d7",
   "metadata": {},
   "outputs": [],
   "source": [
    "response = codecommit_client.create_repository(\n",
    "    repositoryName=code_repository_name,\n",
    "    repositoryDescription='sample repository',\n",
    "    tags={\n",
    "        'owner': user_name\n",
    "    }\n",
    ")"
   ]
  },
  {
   "cell_type": "markdown",
   "id": "59e9c5f9",
   "metadata": {},
   "source": [
    "学習パイプラインを作成するためのコード一式を、作成したリポジトリに push します。"
   ]
  },
  {
   "cell_type": "code",
   "execution_count": null,
   "id": "0338ccb4",
   "metadata": {},
   "outputs": [],
   "source": [
    "%%sh -s $code_repository_name $region $user_name\n",
    "echo $1\n",
    "rm -rf $1\n",
    "git clone https://git-codecommit.$2.amazonaws.com/v1/repos/$1\n",
    "cd $1\n",
    "git config --global user.name $3\n",
    "git config --global user.email you@example.com\n",
    "git checkout -b main\n",
    "cp -r ../git-repo-codes/* ./\n",
    "git add .\n",
    "git commit -m \"first commit\"\n",
    "git push --set-upstream origin main"
   ]
  },
  {
   "cell_type": "markdown",
   "id": "87c75911",
   "metadata": {},
   "source": [
    "## AWS CodeBuild プロジェクトの作成\n",
    "\n",
    "### Build Stage で使用する IAM Policy と Role の作成\n",
    "\n",
    "以下のセルを実行して、CodeBuild が使用する IAM Policy と Role を作成します。"
   ]
  },
  {
   "cell_type": "code",
   "execution_count": null,
   "id": "cdd627a3",
   "metadata": {},
   "outputs": [],
   "source": [
    "assume_role_policy = {\n",
    "          \"Version\": \"2012-10-17\",\n",
    "          \"Statement\": [{\"Sid\": \"\",\"Effect\": \"Allow\",\"Principal\": {\"Service\":\"codebuild.amazonaws.com\"},\"Action\": \"sts:AssumeRole\"}]\n",
    "        }\n",
    "\n",
    "codebuild_policy_name = codebuild_project_name + '-policy'\n",
    "codebuild_role_name = codebuild_project_name + '-role'\n",
    "\n",
    "codebuild_policy_json_name = 'codebuild-policy.json'\n",
    "\n",
    "create_policy_role(codebuild_policy_name, codebuild_policy_json_name,\n",
    "                   codebuild_role_name, assume_role_policy)"
   ]
  },
  {
   "cell_type": "markdown",
   "id": "64b8cc0b",
   "metadata": {},
   "source": [
    "### create_project() API で Build Stage 用プロジェクトを作成\n",
    "\n",
    "API の詳細は [こちらのドキュメント](https://boto3.amazonaws.com/v1/documentation/api/latest/reference/services/codebuild.html#CodeBuild.Client.create_project) をご参照ください。"
   ]
  },
  {
   "cell_type": "code",
   "execution_count": null,
   "id": "70ceaac1",
   "metadata": {},
   "outputs": [],
   "source": [
    "codebuild_role_arn = get_role_arn(codebuild_role_name)\n",
    "\n",
    "response = codebuild_client.create_project(\n",
    "    name=codebuild_project_name,\n",
    "    description='sample project',\n",
    "    source={\n",
    "        'type': 'CODEPIPELINE',\n",
    "        'insecureSsl': False,\n",
    "    },\n",
    "    artifacts={\n",
    "        'type': 'CODEPIPELINE',\n",
    "        'encryptionDisabled': False,\n",
    "    },\n",
    "    cache={\n",
    "        'type': 'LOCAL',\n",
    "        'modes': [\n",
    "            'LOCAL_DOCKER_LAYER_CACHE',\n",
    "        ]\n",
    "    },\n",
    "    environment={\n",
    "        'type': 'LINUX_CONTAINER',\n",
    "        'image': 'aws/codebuild/standard:5.0',\n",
    "        'computeType': 'BUILD_GENERAL1_MEDIUM',\n",
    "        'privilegedMode': True,\n",
    "        'imagePullCredentialsType': 'CODEBUILD'\n",
    "    },\n",
    "    serviceRole=codebuild_role_arn,\n",
    "    timeoutInMinutes=120,\n",
    "    queuedTimeoutInMinutes=120,\n",
    "#     encryptionKey='string',\n",
    "    tags=[\n",
    "        {\n",
    "            'key': 'owner',\n",
    "            'value': user_name\n",
    "        },\n",
    "    ],\n",
    "    badgeEnabled=False,\n",
    "    logsConfig={\n",
    "        'cloudWatchLogs': {\n",
    "            'status': 'ENABLED',\n",
    "        },\n",
    "        's3Logs': {\n",
    "            'status': 'ENABLED',\n",
    "            'location': os.path.join(bucket_name, 'build-log'),\n",
    "            'encryptionDisabled': False,\n",
    "            'bucketOwnerAccess': 'READ_ONLY'\n",
    "        }\n",
    "    },\n",
    ")"
   ]
  },
  {
   "cell_type": "markdown",
   "id": "6b1ed333",
   "metadata": {},
   "source": [
    "### AWS Step Functions 用 IAM Policy と Role の作成"
   ]
  },
  {
   "cell_type": "code",
   "execution_count": null,
   "id": "1fb40d20",
   "metadata": {},
   "outputs": [],
   "source": [
    "import json\n",
    "\n",
    "step_functions_policy_name = project_name + '-stepfunctions-' + user_name + '-policy'\n",
    "step_functions_role_name = project_name + '-stepfunctions-' + user_name + '-role'\n",
    "step_functions_policy_json_name = 'stepfunctions-policy.json'\n",
    "\n",
    "assume_role_policy = {\n",
    "      \"Version\": \"2012-10-17\",\n",
    "      \"Statement\": [{\"Sid\": \"\",\"Effect\": \"Allow\",\"Principal\": {\"Service\":\"states.amazonaws.com\"},\"Action\": \"sts:AssumeRole\"}]\n",
    "    }\n",
    "\n",
    "create_policy_role(step_functions_policy_name, step_functions_policy_json_name,\n",
    "                   step_functions_role_name, assume_role_policy)"
   ]
  },
  {
   "cell_type": "markdown",
   "id": "4c45e707",
   "metadata": {},
   "source": [
    "### ML パイプライン設定ファイルの作成\n",
    "ML パイプラインの設定値が記載された flow.yml を作成します。この設定ファイルには、学習データが保存されている Amazon S3 パスや機械学習アルゴリズムのハイパーパラメタなどの、機械学習モデルを学習。評価するために必要な情報が記載されています。パラメタを変えて CI/CD パイプラインを実行したい場合はこの flow.yml ファイルを更新して CodeCommit に push することで CodePipeline のパイプラインが開始します。"
   ]
  },
  {
   "cell_type": "code",
   "execution_count": null,
   "id": "e680b2b2",
   "metadata": {},
   "outputs": [],
   "source": [
    "step_functions_role_arn = get_role_arn(step_functions_role_name)\n",
    "filepath = os.path.join(code_repository_name, 'flow.yml')\n",
    "\n",
    "flow_yml={f\"\"\"config:\n",
    "  user-name: {user_name}\n",
    "  region: {region}\n",
    "  codepipeline-name: {codepipeline_name}\n",
    "  job-name-prefix: {mlworkflow_name}\n",
    "  image-name-prefix: {mlworkflow_name}\n",
    "  sfn-workflow-name: {mlworkflow_name}\n",
    "  sagemaker-experiment-name: {experiment_name}\n",
    "  sfn-role-arn: {step_functions_role_arn}\n",
    "  sagemaker-role: {role}\n",
    "  framework-version: 1.9.1\n",
    "  model-package-group-arn: {model_package_group_arn}\n",
    "preprocess:\n",
    "  image-repo-name: {project_name}-preprocess-{user_name}\n",
    "  input-data-path: {mnist_data_s3_path}mnist_png.tgz\n",
    "  output-data-path: s3://{bucket_name}/data/PennFudanPed_Augmented\n",
    "train:\n",
    "  image-repo-name: {project_name}-train-{user_name}\n",
    "  output-path: s3://{bucket_name}/train\n",
    "  hyperparameters:\n",
    "    batch-size: 4\n",
    "    epoch: 1\n",
    "evaluate:\n",
    "  image-repo-name: {project_name}-evaluate-{user_name}\n",
    "  data-path: s3://{bucket_name}/data\n",
    "  result-path: s3://{bucket_name}/evaluate\n",
    "deploy:\n",
    "  lambda-func-name: {deploy_model_lambda_name}\n",
    "  model-name-prefix: {project_name}-model-{user_name}\n",
    "  endpoint-name: {endpoint_name}\n",
    "  metric-threshold: 96\n",
    "inference:\n",
    "  image-repo-name: {project_name}-inference-{user_name}\n",
    "\"\"\"\n",
    "}\n",
    "\n",
    "with open(filepath, 'w') as f:\n",
    "    f.write('\\n'.join(list(flow_yml)))"
   ]
  },
  {
   "cell_type": "markdown",
   "id": "ef6f6ef3",
   "metadata": {},
   "source": [
    "### データ準備用のコンテナイメージ用 Dockerfile の作成\n",
    "データ準備用のコンテナイメージを作るための Dockerfile を作成します。"
   ]
  },
  {
   "cell_type": "code",
   "execution_count": null,
   "id": "50145310",
   "metadata": {},
   "outputs": [],
   "source": [
    "filepath = os.path.join(code_repository_name, 'ml-pipeline/data-preparation/Dockerfile')\n",
    "\n",
    "prep_dockerfile={f\"\"\"FROM {base_repository_uri}\n",
    "    \n",
    "ENV AWS_DEFAULT_REGION {region}\n",
    "\n",
    "COPY requirements.txt .\n",
    "COPY preprocessing.py /opt/ml/processing/code/\n",
    "RUN pip3 install --upgrade pip\n",
    "RUN pip3 install -qU -r requirements.txt\n",
    "\n",
    "ENTRYPOINT [\"python3\", \"/opt/ml/processing/code/preprocessing.py\"]\n",
    "\"\"\"\n",
    "}\n",
    "\n",
    "with open(filepath, 'w') as f:\n",
    "    f.write('\\n'.join(list(prep_dockerfile)))"
   ]
  },
  {
   "cell_type": "markdown",
   "id": "52f58c83",
   "metadata": {},
   "source": [
    "### モデル学習用のコンテナイメージ用 Dockerfile の作成\n",
    "次に、モデル学習用のコンテナイメージを作るための Dockerfile を作成します。"
   ]
  },
  {
   "cell_type": "code",
   "execution_count": null,
   "id": "9b04e26c",
   "metadata": {},
   "outputs": [],
   "source": [
    "filepath = os.path.join(code_repository_name, 'ml-pipeline/train/Dockerfile')\n",
    "\n",
    "train_dockerfile={f\"\"\"FROM 763104351884.dkr.ecr.{region}.amazonaws.com/pytorch-training:1.9.1-gpu-py38-cu111-ubuntu20.04\n",
    " \n",
    "RUN apt-get update -y && apt-get install -y libexpat1 libexpat1-dev libsasl2-2 libsasl2-modules-db linux-libc-dev\n",
    "RUN /opt/conda/bin/python -m pip install --upgrade pip\n",
    "COPY requirements.txt ./\n",
    "RUN pip install -qU -r requirements.txt\n",
    "\n",
    "COPY *.py /opt/ml/code/\n",
    "ENV SAGEMAKER_PROGRAM train.py\n",
    "\"\"\"\n",
    "}\n",
    "\n",
    "with open(filepath, 'w') as f:\n",
    "    f.write('\\n'.join(list(train_dockerfile)))"
   ]
  },
  {
   "cell_type": "markdown",
   "id": "5388f159",
   "metadata": {},
   "source": [
    "### モデル評価用のコンテナイメージ用 Dockerfile の作成\n",
    "続いて、モデル評価用のコンテナイメージを作るための Dockerfile を作成します。"
   ]
  },
  {
   "cell_type": "code",
   "execution_count": null,
   "id": "51a1987b",
   "metadata": {},
   "outputs": [],
   "source": [
    "filepath = os.path.join(code_repository_name, 'ml-pipeline/model-evaluation/Dockerfile')\n",
    "\n",
    "eval_dockerfile={f\"\"\"FROM {base_repository_uri}\n",
    "    \n",
    "ENV AWS_DEFAULT_REGION {region}\n",
    "\n",
    "COPY requirements.txt .\n",
    "COPY evaluation.py /opt/ml/processing/input/code/\n",
    "RUN pip3 install --upgrade pip\n",
    "RUN pip3 install -qU -r requirements.txt\n",
    "\n",
    "ENTRYPOINT [\"python3\", \"/opt/ml/processing/input/code/evaluation.py\"]\n",
    "\"\"\"\n",
    "}\n",
    "\n",
    "with open(filepath, 'w') as f:\n",
    "    f.write('\\n'.join(list(eval_dockerfile)))"
   ]
  },
  {
   "cell_type": "markdown",
   "id": "7f55b8b9",
   "metadata": {},
   "source": [
    "### モデルデプロイ用のコンテナイメージ用 Dockerfile の作成\n",
    "最後に、推論エンドポイント用コンテナイメージを作るための Dockerfile を作成します。"
   ]
  },
  {
   "cell_type": "code",
   "execution_count": null,
   "id": "0a61fbba",
   "metadata": {},
   "outputs": [],
   "source": [
    "filepath = os.path.join(code_repository_name, 'ml-pipeline/inference/Dockerfile')\n",
    "\n",
    "inference_dockerfile={f\"\"\"FROM 763104351884.dkr.ecr.{region}.amazonaws.com/pytorch-inference:1.9.1-cpu-py38-ubuntu20.04\n",
    "RUN apt-get update -y && apt-get install -y libexpat1 libnss3 libpolkit-agent-1-0 libpolkit-gobject-1-0 libsasl2-2 libsasl2-modules-db linux-libc-dev policykit-1\n",
    "COPY requirements.txt .\n",
    "RUN pip3 install qU -r requirements.txt\n",
    "\"\"\"\n",
    "}\n",
    "\n",
    "with open(filepath, 'w') as f:\n",
    "    f.write('\\n'.join(list(inference_dockerfile)))"
   ]
  },
  {
   "cell_type": "markdown",
   "id": "67b07786",
   "metadata": {},
   "source": [
    "### 作成した CodeBuild 用のファイルを CodeCommit に push\n",
    "\n",
    "以下のセルを実行して、作成したファイルを CodeCommit に push します。"
   ]
  },
  {
   "cell_type": "code",
   "execution_count": null,
   "id": "b0b8c4be",
   "metadata": {},
   "outputs": [],
   "source": [
    "%%sh -s $code_repository_name\n",
    "echo $1\n",
    "cd $1\n",
    "git add .\n",
    "git commit -m \"add Dockerfile\"\n",
    "git push"
   ]
  },
  {
   "cell_type": "markdown",
   "id": "81f08058",
   "metadata": {},
   "source": [
    "## CodePipeline のパイプライン作成\n",
    "### CodePipeline で使用する IAM Policy と Role を作成"
   ]
  },
  {
   "cell_type": "code",
   "execution_count": null,
   "id": "9515eb24",
   "metadata": {},
   "outputs": [],
   "source": [
    "codepipeline_policy_name = codepipeline_name + '-policy'\n",
    "codepipeline_role_name = codepipeline_name + '-role'\n",
    "codepipeline_role_json_name = 'codepipeline-policy.json'\n",
    "\n",
    "assume_role_policy = {\n",
    "      \"Version\": \"2012-10-17\",\n",
    "      \"Statement\": [{\"Sid\": \"\",\"Effect\": \"Allow\",\"Principal\": {\"Service\":\"codepipeline.amazonaws.com\"},\"Action\": \"sts:AssumeRole\"}]\n",
    "    }\n",
    "\n",
    "create_policy_role(codepipeline_policy_name, codepipeline_role_json_name,\n",
    "                   codepipeline_role_name, assume_role_policy)"
   ]
  },
  {
   "cell_type": "markdown",
   "id": "11fdbc7e",
   "metadata": {},
   "source": [
    "### create_pipeline() API でパイプラインを作成\n",
    "\n",
    "API の詳細は [こちらのドキュメント](https://boto3.amazonaws.com/v1/documentation/api/latest/reference/services/codepipeline.html#CodePipeline.Client.create_pipeline) をご参照ください。"
   ]
  },
  {
   "cell_type": "code",
   "execution_count": null,
   "id": "942d315c",
   "metadata": {},
   "outputs": [],
   "source": [
    "step_functions_workflow_arn = f'arn:aws:states:{region}:{account_id}:stateMachine:' + mlworkflow_name\n",
    "codepipeline_role_arn = get_role_arn(codepipeline_role_name)\n",
    "\n",
    "pipeline={\n",
    "    'name': codepipeline_name,\n",
    "    'roleArn': codepipeline_role_arn,\n",
    "    'artifactStore': {\n",
    "        'type': 'S3',\n",
    "        'location': bucket_name,\n",
    "    },\n",
    "    'stages': [\n",
    "        {\n",
    "            'name': 'Source',\n",
    "            'actions': [\n",
    "                {\n",
    "                    'name': 'Code',\n",
    "                    'actionTypeId': {\n",
    "                        'category': 'Source',\n",
    "                        'owner': 'AWS',\n",
    "                        'provider': 'CodeCommit',\n",
    "                        'version': '1'\n",
    "                    },\n",
    "                    'runOrder': 1,\n",
    "                    'configuration': {\n",
    "                        'BranchName': \"main\", \n",
    "                        'PollForSourceChanges': \"true\",\n",
    "                        'RepositoryName': code_repository_name\n",
    "                    },\n",
    "                    'outputArtifacts': [\n",
    "                        {\n",
    "                            'name': 'Code'\n",
    "                        },\n",
    "                    ],\n",
    "                },\n",
    "            ]\n",
    "        },\n",
    "        {\n",
    "            'name': 'Build',\n",
    "            'actions': [\n",
    "                {\n",
    "                    'name': 'CreateMLWorkflow',\n",
    "                    'actionTypeId': {\n",
    "                        'category': 'Build',\n",
    "                        'owner': 'AWS',\n",
    "                        'provider': 'CodeBuild',\n",
    "                        'version': '1'\n",
    "                    },\n",
    "                    'runOrder': 2,\n",
    "                    # CodeBuild の configuration 情報はこちら\n",
    "                    # https://docs.aws.amazon.com/codepipeline/latest/userguide/action-reference-CodeBuild.html\n",
    "                    'configuration': {\n",
    "                        \"BatchEnabled\": \"false\",\n",
    "                        \"CombineArtifacts\": \"false\",\n",
    "                        \"ProjectName\": codebuild_project_name,\n",
    "                        \"PrimarySource\": \"Code\",\n",
    "                        \"EnvironmentVariables\": \n",
    "                            \"[{\\\"name\\\":\\\"EXEC_ID\\\",\"\n",
    "                                \"\\\"value\\\":\\\"#{codepipeline.PipelineExecutionId}\\\",\"\n",
    "                                \"\\\"type\\\":\\\"PLAINTEXT\\\"}]\"\n",
    "                    },\n",
    "                    'inputArtifacts': [\n",
    "                        {\n",
    "                            'name': 'Code'\n",
    "                        },\n",
    "                    ],\n",
    "                    'namespace': 'CreateMLWorkflow'\n",
    "                },\n",
    "                {\n",
    "                    'name': 'RunMLWorkflow',\n",
    "                    'actionTypeId': {\n",
    "                        'category': 'Invoke',\n",
    "                        'owner': 'AWS',\n",
    "                        'provider': 'StepFunctions',\n",
    "                        'version': '1'\n",
    "                    },\n",
    "                    'runOrder': 3,\n",
    "                    # Step Functions の configuration 情報はこちら\n",
    "                    # https://docs.aws.amazon.com/ja_jp/codepipeline/latest/userguide/action-reference-StepFunctions.html\n",
    "                    'configuration': {\n",
    "                        \"StateMachineArn\": step_functions_workflow_arn,\n",
    "                        \"InputType\": \"Literal\",\n",
    "                        \"Input\": \n",
    "                        \"{\\\"PreprocessingJobName\\\":\\\"#{CreateMLWorkflow.PREP_JOB_NAME}\\\",\"\n",
    "                        \"\\\"TrainingJobName\\\":\\\"#{CreateMLWorkflow.TRAIN_JOB_NAME}\\\",\"\n",
    "                        \" \\\"EvaluationJobName\\\":\\\"#{CreateMLWorkflow.EVAL_JOB_NAME}\\\"}\",\n",
    "                    },\n",
    "                },\n",
    "            ]\n",
    "        },\n",
    "    ],\n",
    "    'version': 1\n",
    "}\n",
    "\n",
    "try:\n",
    "    response = codepipeline_client.get_pipeline(\n",
    "        name=codepipeline_name,\n",
    "    )\n",
    "    response = codepipeline_client.update_pipeline(\n",
    "        pipeline=pipeline\n",
    "    )\n",
    "except Exception as e:\n",
    "    response = codepipeline_client.create_pipeline(\n",
    "        pipeline=pipeline,\n",
    "        tags=[\n",
    "            {\n",
    "                'key': 'owner',\n",
    "                'value': user_name\n",
    "            },\n",
    "        ]\n",
    "    )"
   ]
  },
  {
   "cell_type": "markdown",
   "id": "7b95e1e2",
   "metadata": {},
   "source": [
    "CodePipeline のパイプラインが作成されました。パイプラインが自動的に開始しているはずですので、以下のセルを実行して表示されたリンクをクリックして CodePipeline のコンソールで様子を確認しましょう。\n",
    "\n",
    "Source Stage -> Build Stage -> Approval Stage -> Deploy Stage の順でパイプラインが実行されます。Build Stage の実行が終わると、Approval Stage で手動承認待ちの状態になります。手動承認待ちの状態になったら、CodePipeline のコンソールに表示された [レビュー] ボタンをクリックして承認してください。引き続き、パイプラインで学習したモデルをデプロイするための Deploy Stage が実行されます。\n",
    "\n",
    "Build Stage の実行には、CreateMLWorkflow と RunMLWorkflow にそれぞれ 20分ほどかかります。RunMLWorkflow 完了後、推論エンドポイントが InService の状態になるまでには数分かかります。"
   ]
  },
  {
   "cell_type": "code",
   "execution_count": null,
   "id": "2c2d5a79",
   "metadata": {},
   "outputs": [],
   "source": [
    "from IPython.display import display, Markdown\n",
    "display(Markdown(f\"<a href=\\\"https://{region}.console.aws.amazon.com/codesuite/codepipeline/pipelines?region={region}\\\" target=\\\"_blank\\\">CodePipeline のコンソール</a>\"))"
   ]
  },
  {
   "cell_type": "markdown",
   "id": "20f8c574",
   "metadata": {},
   "source": [
    "## 記録された各種データの確認\n",
    "\n",
    "### Amazon Experiments の中を確認\n",
    "\n",
    "CodePipeline の実行が完了したら、Experiment の中をのぞいてみましょう。まずは Experiment のデータを ExperimentAnalytics を使って読み出します。なお、このサンプルでは Step Functions で作成した ML パイプラインモデル評価ジョブの中で Experiments にデータを登録しています。"
   ]
  },
  {
   "cell_type": "code",
   "execution_count": null,
   "id": "64f69706",
   "metadata": {},
   "outputs": [],
   "source": [
    "# search_expression = {\n",
    "#     \"Filters\":[\n",
    "#         {\n",
    "#             \"Name\": \"TrialComponentName\",\n",
    "#             \"Operator\": \"Contains\",\n",
    "#             \"Value\": evaluation_job_name,\n",
    "#         }\n",
    "#     ],\n",
    "# }\n",
    "\n",
    "trial_component_analytics = ExperimentAnalytics(\n",
    "    experiment_name=experiment_evaluate.experiment_name,\n",
    "    sort_by=\"parameters.accuracy\",\n",
    "#     search_expression=search_expression,\n",
    "#     sort_by=\"metrics.acc.max\",\n",
    "#     sort_order=\"Ascending\",# Ascending or Descending\n",
    "#     metric_names=['metric1', 'metric2'],\n",
    "#     parameter_names=['accuracy', 'roc_auc'],\n",
    "    input_artifact_names=[]\n",
    ")"
   ]
  },
  {
   "cell_type": "code",
   "execution_count": null,
   "id": "8f8aff45",
   "metadata": {},
   "outputs": [],
   "source": [
    "import pandas as pd\n",
    "df = trial_component_analytics.dataframe()\n",
    "pd.set_option('display.max_columns', None)\n",
    "df"
   ]
  },
  {
   "cell_type": "markdown",
   "id": "6836a7c0",
   "metadata": {},
   "source": [
    "### Model Registry の中を確認\n",
    "\n",
    "以下のセルを実行して、簡易的にモデルのバージョンなどを確認します。このサンプルでは、手動承認されたモデルのみが記録されています。手動承認されたモデルだけではなく、CI/CD パイプラインで作成したすべてのモデルを Model Registry に登録したい場合は、学習ジョブか評価ジョブの中で `model.register`（deploy.py の `register_model()` 参照） を実行してモデルパッケージを登録し、deploy.py では [`update_model_package` API を使って](https://docs.aws.amazon.com/sagemaker/latest/dg/model-registry-approve.html) モデルパッケージのステータスを Approved に変更してからモデルをデプロイしてください。\n",
    "\n",
    "Amazon SageMaker Studio からは、Model Registry に登録されたモデルの精度などを確認することができます。"
   ]
  },
  {
   "cell_type": "code",
   "execution_count": null,
   "id": "ed07e84f",
   "metadata": {},
   "outputs": [],
   "source": [
    "import pprint\n",
    "\n",
    "def get_model_packages(model_package_group_name):\n",
    "    next_token = ''\n",
    "    model_package_list = []\n",
    "    while True:\n",
    "        if next_token == '':\n",
    "            response = sagemaker_client.list_model_packages(\n",
    "                            ModelPackageGroupName=model_package_group_name,\n",
    "                        )\n",
    "        else:\n",
    "            response = sagemaker_client.list_model_packages(\n",
    "                            ModelPackageGroupName=model_package_group_name,\n",
    "                            NextToken=next_token,\n",
    "                        )\n",
    "        for content in response['ModelPackageSummaryList']:\n",
    "            model_package_list.append(content)\n",
    "        if 'NextToken' in response:\n",
    "            next_token = response['Marker']\n",
    "        else:\n",
    "            break\n",
    "\n",
    "    return model_package_list\n",
    "\n",
    "\n",
    "model_package_list = get_model_packages(model_package_group_name)\n",
    "\n",
    "pprint.pprint(model_package_list)\n",
    "model_package_list = [{'ModelPackageArn': r['ModelPackageArn'],\n",
    "                       'CreationTime': r['CreationTime'].astimezone(JST).strftime('%Y/%m/%d-%H:%M:%S'),\n",
    "                       'ModelPackageVersion': r['ModelPackageVersion'],\n",
    "                       'ModelApprovalStatus': r['ModelApprovalStatus']} for r in model_package_list] "
   ]
  },
  {
   "cell_type": "markdown",
   "id": "ae780728",
   "metadata": {},
   "source": [
    "特定のモデルバージョンの詳細情報を見たい場合は `describe_model_package` を使用します。Model Registry の UI か API でモデルを承認する際にコメントを入れておくと、`ApprovalDescription` のところに記録されます。"
   ]
  },
  {
   "cell_type": "code",
   "execution_count": null,
   "id": "a1b6c476",
   "metadata": {},
   "outputs": [],
   "source": [
    "response =sagemaker_client.describe_model_package(\n",
    "        ModelPackageName=model_package_list[0]['ModelPackageArn']\n",
    "    )\n",
    "response"
   ]
  },
  {
   "cell_type": "markdown",
   "id": "0201a450",
   "metadata": {},
   "source": [
    "## 推論エンドポイントの動作確認\n",
    "\n",
    "CodePipeline が Deploy Stage まで完了し、推論エンドポイントが InService になったら動作確認をしてみましょう。MNIST データセットをダウンロードし、推論エンドポイントに推論リクエストを投げます。"
   ]
  },
  {
   "cell_type": "code",
   "execution_count": null,
   "id": "fefdba2a",
   "metadata": {},
   "outputs": [],
   "source": [
    "while True:\n",
    "    response = sagemaker_client.describe_endpoint(\n",
    "        EndpointName= endpoint_name\n",
    "    )\n",
    "    if response['EndpointStatus'] == 'InService':\n",
    "        break\n",
    "    sleep(30)"
   ]
  },
  {
   "cell_type": "code",
   "execution_count": null,
   "id": "ec30d522",
   "metadata": {},
   "outputs": [],
   "source": [
    "!aws s3 cp s3://fast-ai-imageclas/mnist_png.tgz . --no-sign-request\n",
    "!tar -xvzf  mnist_png.tgz"
   ]
  },
  {
   "cell_type": "code",
   "execution_count": null,
   "id": "7bf44bff",
   "metadata": {},
   "outputs": [],
   "source": [
    "%matplotlib inline\n",
    "from torchvision import datasets, transforms\n",
    "from torch.utils.data import DataLoader\n",
    "import torch\n",
    "import os\n",
    "import random\n",
    "import numpy as np\n",
    "import matplotlib.pyplot as plt\n",
    "\n",
    "test_dir = 'mnist_png/testing'\n",
    "\n",
    "test_data = datasets.ImageFolder(root=test_dir,\n",
    "                            transform=transforms.Compose([\n",
    "                            transforms.Grayscale(),\n",
    "                            transforms.ToTensor(),\n",
    "                            transforms.Normalize((0.1307,), (0.3081,))]))\n",
    "\n",
    "raw_test_data = datasets.ImageFolder(root=test_dir,\n",
    "                                        transform=transforms.Compose([\n",
    "                                        transforms.Grayscale(),\n",
    "                                        transforms.ToTensor()]))\n",
    "num_samples = 5\n",
    "indices = random.sample(range(len(raw_test_data) - 1), num_samples)\n",
    "raw_images = np.array([raw_test_data[i][0].numpy() for i in indices])\n",
    "raw_labels = np.array([raw_test_data[i][1] for i in indices])\n",
    "\n",
    "\n",
    "for i in range(num_samples):\n",
    "    plt.subplot(1,num_samples,i+1)\n",
    "    plt.imshow(raw_images[i].reshape(28, 28), cmap='gray')\n",
    "    plt.title(raw_labels[i])\n",
    "    plt.axis('off')\n",
    "    \n",
    "images = np.array([test_data[i][0].numpy() for i in indices])"
   ]
  },
  {
   "cell_type": "code",
   "execution_count": null,
   "id": "ddd1bfb0",
   "metadata": {},
   "outputs": [],
   "source": [
    "from sagemaker.pytorch.model import PyTorchPredictor\n",
    "\n",
    "predictor = PyTorchPredictor(\n",
    "        endpoint_name= endpoint_name\n",
    ")"
   ]
  },
  {
   "cell_type": "code",
   "execution_count": null,
   "id": "5a6a9a37",
   "metadata": {},
   "outputs": [],
   "source": [
    "prediction = predictor.predict(images)\n",
    "predicted_label = prediction.argmax(axis=1)\n",
    "\n",
    "print('The GT labels are: {}'.format(raw_labels))\n",
    "print('The predicted labels are: {}'.format(predicted_label))"
   ]
  },
  {
   "cell_type": "markdown",
   "id": "9b9de1d7",
   "metadata": {},
   "source": [
    "## [おまけ] Model Registry のモデルパッケージをデプロイ\n",
    "\n",
    "以下のセルのコメントアウトを外してから実行すると、Model Registry に登録されたモデルパッケージを推論エンドポイントにデプロイすることができます。なお、モデルパッケージはステータスが Approved になっていないとデプロイできません。このサンプルでは、モデルパッケージのデプロイは Step Functions ワークフローの最後の Lmabda 関数実行しています。\n",
    "\n",
    "モデルパッケージをエンドポイントにデプロイすると、Model Registry に記録されているモデルパッケージの Activity 情報に ModelDeployment というイベントが追加されます。"
   ]
  },
  {
   "cell_type": "code",
   "execution_count": null,
   "id": "bcb0aa53",
   "metadata": {},
   "outputs": [],
   "source": [
    "# model_package_arn = model_package_list[0]['ModelPackageArn']\n",
    "# tmp_endpoint_name = model_package_group_name + '-tmp'\n",
    "# model_package = sagemaker.model.ModelPackage(role=role,\n",
    "#                              model_package_arn=model_package_arn)\n",
    "# model_package.deploy(instance_type='ml.m5.xlarge',\n",
    "#                      initial_instance_count=1,\n",
    "#                      endpoint_name=tmp_endpoint_name)\n",
    "# package_predictor = PyTorchPredictor( endpoint_name= tmp_endpoint_name)\n",
    "\n",
    "# prediction = package_predictor.predict(images)\n",
    "# predicted_label = prediction.argmax(axis=1)\n",
    "\n",
    "# print('The GT labels are: {}'.format(raw_labels))\n",
    "# print('The predicted labels are: {}'.format(predicted_label))\n",
    "# package_predictor.delete_endpoint()"
   ]
  },
  {
   "cell_type": "markdown",
   "id": "fd6394dc",
   "metadata": {},
   "source": [
    "## リソースの削除\n",
    "\n",
    "このノートブックの実行が終わったら、不要なリソースを削除することを忘れないでください。このノートブックを最後まで実行してリソースの削除をしたら、ノートブックインスタンス、各種データを保存した S3 バケットも不要であれば削除してください。"
   ]
  },
  {
   "cell_type": "markdown",
   "id": "a6a9041c",
   "metadata": {},
   "source": [
    "### Amazon SageMaker 推論エンドポイントの削除"
   ]
  },
  {
   "cell_type": "code",
   "execution_count": null,
   "id": "cd8104fe",
   "metadata": {},
   "outputs": [],
   "source": [
    "from sagemaker.pytorch.model import PyTorchPredictor\n",
    "\n",
    "predictor = PyTorchPredictor(\n",
    "        endpoint_name=endpoint_name\n",
    ")\n",
    "predictor.delete_endpoint()"
   ]
  },
  {
   "cell_type": "markdown",
   "id": "f3ef58aa",
   "metadata": {},
   "source": [
    "### CodeCommit, CodeBuild, CodePipeline の削除"
   ]
  },
  {
   "cell_type": "code",
   "execution_count": null,
   "id": "d634994f",
   "metadata": {},
   "outputs": [],
   "source": [
    "response = codecommit_client.delete_repository(\n",
    "    repositoryName=code_repository_name\n",
    ")\n",
    "print('Delete:', response['repositoryId'])\n",
    "\n",
    "response = codebuild_client.delete_project(\n",
    "    name=codebuild_project_name\n",
    ")\n",
    "print('Delete:', codebuild_project_name)\n",
    "\n",
    "response = codebuild_client.delete_project(\n",
    "    name=codebuild_deploy_project_name\n",
    ")\n",
    "print('Delete:', codebuild_deploy_project_name)\n",
    "\n",
    "response = codepipeline_client.delete_pipeline(\n",
    "    name=codepipeline_name\n",
    ")\n",
    "print('Delete:', codepipeline_name)"
   ]
  },
  {
   "cell_type": "markdown",
   "id": "f02dd6a3",
   "metadata": {},
   "source": [
    "### Amazon ECR リポジトリの削除"
   ]
  },
  {
   "cell_type": "code",
   "execution_count": null,
   "id": "948f6751",
   "metadata": {},
   "outputs": [],
   "source": [
    "container_image_list = [\n",
    "    project_name + '-base-' + user_name,\n",
    "    project_name + '-lambda-' + user_name,\n",
    "    project_name + '-preprocess-' + user_name,\n",
    "    project_name + '-train-' + user_name,\n",
    "    project_name + '-inference-' + user_name,\n",
    "    project_name + '-evaluate-' + user_name,\n",
    "]\n",
    "for i in container_image_list:\n",
    "    try:\n",
    "        ecr_client.delete_repository(\n",
    "            repositoryName=i,\n",
    "            force=True\n",
    "        )\n",
    "        print('Delete:', i)\n",
    "    except Exception as e:\n",
    "        print(e)\n",
    "        pass"
   ]
  },
  {
   "cell_type": "markdown",
   "id": "8d7cc480",
   "metadata": {},
   "source": [
    "### Lambda 関数の削除"
   ]
  },
  {
   "cell_type": "code",
   "execution_count": null,
   "id": "3dba958a",
   "metadata": {},
   "outputs": [],
   "source": [
    "lambda_function_list = list(set(lambda_function_list))\n",
    "for f in lambda_function_list:\n",
    "    lambda_client.delete_function(FunctionName=f)"
   ]
  },
  {
   "cell_type": "markdown",
   "id": "c50b342c",
   "metadata": {},
   "source": [
    "### Experiment の削除"
   ]
  },
  {
   "cell_type": "code",
   "execution_count": null,
   "id": "49d4c63f",
   "metadata": {},
   "outputs": [],
   "source": [
    "sm = boto3.Session().client('sagemaker')\n",
    "def cleanup(experiment):\n",
    "    for trial_summary in experiment.list_trials():\n",
    "        trial = Trial.load(sagemaker_boto_client=sm, trial_name=trial_summary.trial_name)\n",
    "        for trial_component_summary in trial.list_trial_components():\n",
    "            tc = TrialComponent.load(\n",
    "                sagemaker_boto_client=sm,\n",
    "                trial_component_name=trial_component_summary.trial_component_name)\n",
    "            trial.remove_trial_component(tc)\n",
    "            try:\n",
    "                # comment out to keep trial components\n",
    "                tc.delete()\n",
    "            except:\n",
    "                # tc is associated with another trial\n",
    "                continue\n",
    "            # to prevent throttling\n",
    "            sleep(.5)\n",
    "        trial.delete()\n",
    "    experiment.delete()\n",
    "    print('Delete:', experiment)\n",
    "cleanup(experiment_evaluate)"
   ]
  },
  {
   "cell_type": "markdown",
   "id": "e1f914bd",
   "metadata": {},
   "source": [
    "### Amazon SageMaker Model Registry の削除"
   ]
  },
  {
   "cell_type": "code",
   "execution_count": null,
   "id": "a4cf65ac",
   "metadata": {},
   "outputs": [],
   "source": [
    "model_package_list = get_model_packages(model_package_group_name)\n",
    "model_package_list = [{'ModelPackageArn': r['ModelPackageArn'],\n",
    "                       'CreationTime': r['CreationTime'].astimezone(JST).strftime('%Y/%m/%d-%H:%M:%S'),\n",
    "                       'ModelPackageVersion': r['ModelPackageVersion'],\n",
    "                       'ModelApprovalStatus': r['ModelApprovalStatus']} for r in model_package_list] \n",
    "\n",
    "for m in model_package_list:\n",
    "    response = sagemaker_client.delete_model_package(\n",
    "        ModelPackageName=m['ModelPackageArn']\n",
    "    )\n",
    "\n",
    "response = sagemaker_client.delete_model_package_group(\n",
    "    ModelPackageGroupName=model_package_group_name\n",
    ")"
   ]
  },
  {
   "cell_type": "markdown",
   "id": "45bfc647",
   "metadata": {},
   "source": [
    "### AWS Step Functions ワークフローの削除"
   ]
  },
  {
   "cell_type": "code",
   "execution_count": null,
   "id": "b20aa545",
   "metadata": {},
   "outputs": [],
   "source": [
    "workflow_list = Workflow.list_workflows()\n",
    "workflow_arn = [d['stateMachineArn'] for d in workflow_list  if d['name']==mlworkflow_name][0]\n",
    "sfn_workflow = Workflow.attach(workflow_arn)\n",
    "try:\n",
    "    sfn_workflow.delete()\n",
    "    print('Delete:', mlworkflow_name)\n",
    "except Exception as e:\n",
    "    print(e)"
   ]
  },
  {
   "cell_type": "markdown",
   "id": "c9899fce",
   "metadata": {},
   "source": [
    "### Amazon S3 バケットの削除\n",
    "S3 バケットを削除したい場合は、以下のセルのコメントアウトを外してから実行してバケットを空にしてください。その後、コンソールからバケットの削除を実行してください。"
   ]
  },
  {
   "cell_type": "code",
   "execution_count": null,
   "id": "c127fe3b",
   "metadata": {},
   "outputs": [],
   "source": [
    "# def delete_all_keys_v2(bucket, prefix, dryrun=False):\n",
    "#     contents_count = 0\n",
    "#     next_token = ''\n",
    "\n",
    "#     while True:\n",
    "#         if next_token == '':\n",
    "#             response = s3_client.list_objects_v2(Bucket=bucket, Prefix=prefix)\n",
    "#         else:\n",
    "#             response = s3_client.list_objects_v2(Bucket=bucket, Prefix=prefix, ContinuationToken=next_token)\n",
    "\n",
    "#         if 'Contents' in response:\n",
    "#             contents = response['Contents']\n",
    "#             contents_count = contents_count + len(contents)\n",
    "#             for content in contents:\n",
    "#                 if not dryrun:\n",
    "#                     print(\"Deleting: s3://\" + bucket + \"/\" + content['Key'])\n",
    "#                     s3_client.delete_object(Bucket=bucket, Key=content['Key'])\n",
    "#                 else:\n",
    "#                     print(\"DryRun: s3://\" + bucket + \"/\" + content['Key'])\n",
    "\n",
    "#         if 'NextContinuationToken' in response:\n",
    "#             next_token = response['NextContinuationToken']\n",
    "#         else:\n",
    "#             break\n",
    "\n",
    "#     print(contents_count, 'files were deleted.')\n",
    "\n",
    "# delete_all_keys_v2(bucket_name, '')"
   ]
  },
  {
   "cell_type": "markdown",
   "id": "b1e2a855",
   "metadata": {},
   "source": [
    "### IAM Role と Policy の削除"
   ]
  },
  {
   "cell_type": "code",
   "execution_count": null,
   "id": "dba9449e",
   "metadata": {},
   "outputs": [],
   "source": [
    "role_name_list = list(set(role_name_list))\n",
    "policy_arn_list = list(set(policy_arn_list))\n",
    "\n",
    "for r in role_name_list:\n",
    "    try:\n",
    "        detach_role_policies(r)\n",
    "        iam_client.delete_role(RoleName=r)\n",
    "        print('Delete role:', r)\n",
    "    except Exception as e:\n",
    "        print(e)\n",
    "        pass\n",
    "\n",
    "for p in policy_arn_list:\n",
    "    try:\n",
    "        iam_client.delete_policy(PolicyArn=p)\n",
    "        print('Delete:', p)\n",
    "    except Exception as e:\n",
    "        print(e)\n",
    "\n",
    "sagemaker_policy_arn = get_policy_arn(sagemaker_policy_name)\n",
    "response = iam_client.detach_role_policy(\n",
    "    RoleName=role.split('/')[2],\n",
    "    PolicyArn=sagemaker_policy_arn\n",
    ")\n",
    "sagemaker_policy_name"
   ]
  },
  {
   "cell_type": "markdown",
   "id": "e272390d",
   "metadata": {},
   "source": [
    "最後に、初めに作成した上記名前のポリシーを手動で削除してください。"
   ]
  },
  {
   "cell_type": "markdown",
   "id": "2c4fab6d",
   "metadata": {},
   "source": [
    "## [Option] CI/CD パイプラインの定期実行\n",
    "\n",
    "### flow.yml 更新用 Lambda 関数の作成\n",
    "たとえば、最新のデータが s3://bucket/yyyymmdd のようなパスに格納されているとします。1日に1回、前日のデータを使ってパイプラインを実行したい場合に、以下の流れでパイプラインを実行することができます。\n",
    "\n",
    "- Amazon EventBridge でイベントを発生させて Lambda 関数を実行\n",
    "- Lambda 関数が datetime を使ってデータ保存パスを生成して flow.yml に反映し CodeCommit に push\n",
    "- CodeCommit へのファイル push をトリガに CodePipeline のパイプラインを実行\n",
    "\n",
    "**なお、以下の EventBridge Rule 作成部分までコードを実行すると 10 分ごとに CodePipeline のパイプラインが実行されるようになりますが、前処理ジョブの入力に存在しないパス(timestampで自動的に作成されたパス)が設定されることになるため、Step Functions ワークフローで前処理ジョブを起動する部分で必ずエラーになります。**\n",
    "\n",
    "パイプラインの定期実行方法の例としてご参照ください。"
   ]
  },
  {
   "cell_type": "code",
   "execution_count": null,
   "id": "559f46e4",
   "metadata": {},
   "outputs": [],
   "source": [
    "def create_lambda_function(function_name, file_name, role_arn, py_version='python3.9'):\n",
    "\n",
    "    with open(file_name+'.zip', 'rb') as f:\n",
    "        zip_data = f.read()\n",
    "        \n",
    "    if function_exists(function_name):\n",
    "        response = lambda_client.update_function_code(\n",
    "            FunctionName=function_name,\n",
    "            ZipFile=zip_data,\n",
    "            Publish=True,\n",
    "        )\n",
    "    else:\n",
    "        response = lambda_client.create_function(\n",
    "            FunctionName=function_name,\n",
    "            Role=role_arn,\n",
    "            Handler=file_name+'.lambda_handler',\n",
    "            Runtime=py_version,\n",
    "            Code={\n",
    "                'ZipFile':zip_data\n",
    "            },\n",
    "            Timeout=60*5, # 5 minutes\n",
    "            MemorySize=128, # 128 MB\n",
    "            Publish=True,\n",
    "            PackageType='Zip',\n",
    "        )\n",
    "    lambda_function_list.append(function_name)\n",
    "    return response['FunctionArn']"
   ]
  },
  {
   "cell_type": "code",
   "execution_count": null,
   "id": "da78027b",
   "metadata": {},
   "outputs": [],
   "source": [
    "lambda_event_function_name  = project_name + '-event-' + user_name\n",
    "filepath = lambda_event_function_name + '.py'\n",
    "\n",
    "flow_yml={f\"\"\"import yaml\n",
    "import boto3\n",
    "import json\n",
    "from datetime import datetime\n",
    "from dateutil import tz\n",
    "\n",
    "codecommit_client = boto3.client('codecommit')\n",
    "\n",
    "def lambda_handler(event, context):\n",
    "    JST = tz.gettz('Asia/Tokyo')\n",
    "    timestamp = datetime.now(JST).strftime('%Y%m%d-%H%M%S')\n",
    "    print(timestamp)\n",
    "    \n",
    "\n",
    "    file_name = 'flow.yml'\n",
    "    response = codecommit_client.get_file(\n",
    "        repositoryName='{code_repository_name}',\n",
    "        filePath=file_name\n",
    "    )\n",
    "\n",
    "    commit_id = response['commitId']\n",
    "    file = response['fileContent']\n",
    "\n",
    "    flow = yaml.safe_load(file.decode())\n",
    "    flow['preprocess']['input-data-path'] = f's3://{bucket_name}/data/{{timestamp}}'\n",
    "\n",
    "    out_file = f'/tmp/{{file_name}}'\n",
    "    with open(out_file, 'w') as f:\n",
    "        yaml.dump(flow, f)\n",
    "\n",
    "    with open(out_file, 'r') as f:\n",
    "        response = codecommit_client.put_file(\n",
    "            repositoryName='{code_repository_name}',\n",
    "            branchName='main',\n",
    "            fileContent=f.read(),\n",
    "            filePath=file_name,\n",
    "            parentCommitId=commit_id,\n",
    "            commitMessage='push from lambda',\n",
    "            name='system',\n",
    "            email='test@amazon.co.jp'\n",
    "        )\n",
    "\n",
    "    return {{\n",
    "        'statusCode': 200,\n",
    "        'body': json.dumps('Hello from Lambda!')\n",
    "    }}\n",
    "\"\"\"\n",
    "}\n",
    "\n",
    "with open(filepath, 'w') as f:\n",
    "    f.write('\\n'.join(list(flow_yml)))"
   ]
  },
  {
   "cell_type": "code",
   "execution_count": null,
   "id": "9a81ec11",
   "metadata": {},
   "outputs": [],
   "source": [
    "lambda_event_policy_name = lambda_event_function_name + '-policy'\n",
    "lambda_event_role_name = lambda_event_function_name + '-role'\n",
    "\n",
    "inline_policy = {\n",
    "    \"Version\": \"2012-10-17\",\n",
    "    \"Statement\": [\n",
    "        {\n",
    "            'Effect': 'Allow',\n",
    "            'Action': 'logs:CreateLogGroup',\n",
    "            'Resource': f'arn:aws:logs:{region}:{account_id}:*'\n",
    "        },\n",
    "        {\n",
    "            'Effect': 'Allow',\n",
    "            'Action': [\n",
    "                'logs:CreateLogStream',\n",
    "                'logs:PutLogEvents'\n",
    "            ],\n",
    "            'Resource': [\n",
    "                f'arn:aws:logs:{region}:{account_id}:log-group:/aws/lambda/{lambda_event_function_name}:*'\n",
    "            ]\n",
    "        }\n",
    "    ]\n",
    "}\n",
    "\n",
    "assume_role_policy = {\n",
    "  \"Version\": \"2012-10-17\",\n",
    "  \"Statement\": [{\"Sid\": \"\",\"Effect\": \"Allow\",\"Principal\": {\"Service\":\"lambda.amazonaws.com\"},\"Action\": \"sts:AssumeRole\"}]\n",
    "}\n",
    "\n",
    "policy_list=['AWSCodeCommitPowerUser']\n",
    "\n",
    "create_policy_role(lambda_event_policy_name, inline_policy,\n",
    "                   lambda_event_role_name, assume_role_policy, policy_list=policy_list)\n",
    "lambda_event_role_arn = iam_client.get_role(RoleName=lambda_event_role_name)['Role']['Arn']\n",
    "sleep(10) # wait until IAM is created\n",
    "file_name = ''"
   ]
  },
  {
   "cell_type": "markdown",
   "id": "950cbb63",
   "metadata": {},
   "source": [
    "以下のセルでは、Lambda 関数で使用するライブラリとソースコードを zip に固めています。Lmabda 関数を作成する際は、以下の処理を実行した環境と同じ Python のバージョンのランタイムを指定してください。"
   ]
  },
  {
   "cell_type": "code",
   "execution_count": null,
   "id": "6d4ac953",
   "metadata": {
    "scrolled": true
   },
   "outputs": [],
   "source": [
    "%%sh -s $lambda_event_function_name\n",
    "\n",
    "rm -rf $1\n",
    "rm $1.zip\n",
    "mkdir $1\n",
    "pip install pyyaml -t $1\n",
    "cp $1.py $1\n",
    "cd $1\n",
    "zip -r ../$1.zip ."
   ]
  },
  {
   "cell_type": "code",
   "execution_count": null,
   "id": "1c8389f4",
   "metadata": {},
   "outputs": [],
   "source": [
    "lambda_event_function_arn = create_lambda_function(lambda_event_function_name,\n",
    "                                                   lambda_event_function_name,\n",
    "                                                   lambda_event_role_arn,\n",
    "                                                   py_version='python3.6')"
   ]
  },
  {
   "cell_type": "markdown",
   "id": "26d93b84",
   "metadata": {},
   "source": [
    "### 定期実行のための Amazon EventBridge Rule 作成\n",
    "\n",
    "このサンプルでは、イベントを発生させるためにのイベントバスを使用しています。定期イベントを発生させるために、EventBridge のコンソールの左側のメニューにある [イベントバス] をクリックし、デフォルトのイベントバス部分の [アクション]-> [検出を開始する] をクリックしてください。[スキーマの検出] 列に {Started] と記載されていることを確認してください。\n",
    "\n",
    "以下のセルでは、10 分ごとにイベントが発生するようルールを作成しています。"
   ]
  },
  {
   "cell_type": "code",
   "execution_count": null,
   "id": "29192f58",
   "metadata": {},
   "outputs": [],
   "source": [
    "eventbridge_client = boto3.client('events', region_name=region)\n",
    "start_pipeline_rule_name = project_name + '-' + 'StartPipeline' + user_name\n",
    "\n",
    "response = eventbridge_client.put_rule(\n",
    "    Name=start_pipeline_rule_name,\n",
    "    ScheduleExpression='rate(10 minutes)',\n",
    "    State='ENABLED',\n",
    "    Description='schedule to start pipeline',\n",
    ")\n",
    "start_pipeline_rule_arn = response['RuleArn']"
   ]
  },
  {
   "cell_type": "markdown",
   "id": "310daf92",
   "metadata": {},
   "source": [
    "以下のセルでは、作成したルールに Lambda 関数を紐づけています。"
   ]
  },
  {
   "cell_type": "code",
   "execution_count": null,
   "id": "c83ffea4",
   "metadata": {},
   "outputs": [],
   "source": [
    "function_arn = lambda_client.get_function(FunctionName=lambda_event_function_name)['Configuration']['FunctionArn']\n",
    "response = eventbridge_client.put_targets(\n",
    "    Rule=start_pipeline_rule_name,\n",
    "    Targets=[\n",
    "        {\n",
    "            'Id': lambda_event_function_name,\n",
    "            'Arn': function_arn,\n",
    "        }\n",
    "    ]\n",
    ")\n",
    "\n",
    "response = lambda_client.add_permission(\n",
    "    FunctionName=lambda_event_function_name,\n",
    "    StatementId=lambda_event_function_name,\n",
    "    Action='lambda:InvokeFunction',\n",
    "    Principal='events.amazonaws.com',\n",
    "    SourceArn=start_pipeline_rule_arn,\n",
    "    SourceAccount=account_id,\n",
    ")"
   ]
  },
  {
   "cell_type": "markdown",
   "id": "4383b7dd",
   "metadata": {},
   "source": [
    "### リソースの削除\n",
    "定期実行を止めるために、必ず以下のセルを実行してください。"
   ]
  },
  {
   "cell_type": "code",
   "execution_count": null,
   "id": "2cf7e06b",
   "metadata": {},
   "outputs": [],
   "source": [
    "# Amazon EventBridge Rule の削除\n",
    "response = eventbridge_client.remove_targets(\n",
    "    Rule=start_pipeline_rule_name,\n",
    "    Ids=[\n",
    "        lambda_event_function_name,\n",
    "    ],\n",
    "    Force=True\n",
    ")\n",
    "\n",
    "response = eventbridge_client.delete_rule(\n",
    "    Name=start_pipeline_rule_name,\n",
    "    Force=True\n",
    ")"
   ]
  },
  {
   "cell_type": "code",
   "execution_count": null,
   "id": "901d70e9",
   "metadata": {},
   "outputs": [],
   "source": [
    "# データパス作成用 Lambda 関数の削除\n",
    "lambda_client.delete_function(FunctionName=lambda_event_function_name)\n",
    "lambda_function_list.remove(lambda_event_function_name)"
   ]
  },
  {
   "cell_type": "code",
   "execution_count": null,
   "id": "f9dae996",
   "metadata": {},
   "outputs": [],
   "source": []
  }
 ],
 "metadata": {
  "kernelspec": {
   "display_name": "conda_pytorch_p37",
   "language": "python",
   "name": "conda_pytorch_p37"
  },
  "language_info": {
   "codemirror_mode": {
    "name": "ipython",
    "version": 3
   },
   "file_extension": ".py",
   "mimetype": "text/x-python",
   "name": "python",
   "nbconvert_exporter": "python",
   "pygments_lexer": "ipython3",
   "version": "3.7.10"
  },
  "toc": {
   "base_numbering": 1,
   "nav_menu": {},
   "number_sections": true,
   "sideBar": true,
   "skip_h1_title": false,
   "title_cell": "Table of Contents",
   "title_sidebar": "Contents",
   "toc_cell": true,
   "toc_position": {
    "height": "calc(100% - 180px)",
    "left": "10px",
    "top": "150px",
    "width": "258.044px"
   },
   "toc_section_display": true,
   "toc_window_display": true
  }
 },
 "nbformat": 4,
 "nbformat_minor": 5
}
